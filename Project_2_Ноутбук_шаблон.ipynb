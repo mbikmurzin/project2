{
  "cells": [
    {
      "cell_type": "markdown",
      "id": "42289889-bd57-434e-9637-d3e354756316",
      "metadata": {
        "id": "42289889-bd57-434e-9637-d3e354756316"
      },
      "source": [
        "<center> <img src = https://raw.githubusercontent.com/AndreyRysistov/DatasetsForPandas/main/hh%20label.jpg alt=\"drawing\" style=\"width:400px;\">"
      ]
    },
    {
      "cell_type": "markdown",
      "id": "829cb75b-f14e-4ba8-9195-7ba929a7d656",
      "metadata": {
        "id": "829cb75b-f14e-4ba8-9195-7ba929a7d656",
        "tags": []
      },
      "source": [
        "# <center> Проект: Анализ вакансий из HeadHunter\n",
        "   "
      ]
    },
    {
      "cell_type": "code",
      "execution_count": 4,
      "id": "dccfde33-2452-43fb-a8a5-5c6ebc02a71d",
      "metadata": {
        "id": "dccfde33-2452-43fb-a8a5-5c6ebc02a71d"
      },
      "outputs": [],
      "source": [
        "import pandas as pd\n",
        "import psycopg2\n",
        "\n",
        "import warnings\n",
        "warnings.filterwarnings(\"ignore\")\n"
      ]
    },
    {
      "cell_type": "code",
      "execution_count": 5,
      "id": "oVKH4ehvf8Ay",
      "metadata": {
        "id": "oVKH4ehvf8Ay"
      },
      "outputs": [],
      "source": [
        "# вставьте сюда параметры подключения из юнита 1. Работа с базой данных из Python "
      ]
    },
    {
      "cell_type": "markdown",
      "id": "0dc6476b-7a00-44f1-ac93-6e3baed33a29",
      "metadata": {
        "id": "0dc6476b-7a00-44f1-ac93-6e3baed33a29"
      },
      "source": [
        "# Юнит 3. Предварительный анализ данных"
      ]
    },
    {
      "cell_type": "markdown",
      "id": "889782b6-8d1c-410e-8920-e57f27917c64",
      "metadata": {
        "id": "889782b6-8d1c-410e-8920-e57f27917c64"
      },
      "source": [
        "1. Напишите запрос, который посчитает количество вакансий в нашей базе (вакансии находятся в таблице vacancies). "
      ]
    },
    {
      "cell_type": "code",
      "execution_count": 7,
      "id": "bc39e68e-ed02-4ee2-9235-7258a2f867a8",
      "metadata": {
        "id": "bc39e68e-ed02-4ee2-9235-7258a2f867a8"
      },
      "outputs": [],
      "source": [
        "# текст запроса\n",
        "query_3_1 = f'''\n",
        "    SELECT\n",
        "        COUNT(DISTINCT id)\n",
        "    FROM public.vacancies\n",
        "'''"
      ]
    },
    {
      "cell_type": "code",
      "execution_count": 8,
      "id": "7mAwtsk4hEHY",
      "metadata": {
        "id": "7mAwtsk4hEHY"
      },
      "outputs": [
        {
          "data": {
            "text/html": [
              "<div>\n",
              "<style scoped>\n",
              "    .dataframe tbody tr th:only-of-type {\n",
              "        vertical-align: middle;\n",
              "    }\n",
              "\n",
              "    .dataframe tbody tr th {\n",
              "        vertical-align: top;\n",
              "    }\n",
              "\n",
              "    .dataframe thead th {\n",
              "        text-align: right;\n",
              "    }\n",
              "</style>\n",
              "<table border=\"1\" class=\"dataframe\">\n",
              "  <thead>\n",
              "    <tr style=\"text-align: right;\">\n",
              "      <th></th>\n",
              "      <th>count</th>\n",
              "    </tr>\n",
              "  </thead>\n",
              "  <tbody>\n",
              "    <tr>\n",
              "      <th>0</th>\n",
              "      <td>49197</td>\n",
              "    </tr>\n",
              "  </tbody>\n",
              "</table>\n",
              "</div>"
            ],
            "text/plain": [
              "   count\n",
              "0  49197"
            ]
          },
          "metadata": {},
          "output_type": "display_data"
        }
      ],
      "source": [
        "# Выполняем запрос и сохраняем результат в виде DataFrame\n",
        "df = pd.read_sql_query(query_3_1, connection)\n",
        "\n",
        "# Отображаем полученный результат\n",
        "display(df)"
      ]
    },
    {
      "cell_type": "markdown",
      "id": "b583485d-1f9e-494e-ada4-80ffff7c53d6",
      "metadata": {
        "id": "b583485d-1f9e-494e-ada4-80ffff7c53d6"
      },
      "source": [
        "2. Напишите запрос, который посчитает количество работодателей (таблица employers). "
      ]
    },
    {
      "cell_type": "code",
      "execution_count": 9,
      "id": "5408c52c-3407-4a63-b25b-1aafa2322d28",
      "metadata": {
        "id": "5408c52c-3407-4a63-b25b-1aafa2322d28"
      },
      "outputs": [],
      "source": [
        "# SQL-запрос для подсчета количества уникальных значений:\n",
        "# Подсчитываем количество уникальных значений в столбце id из таблицы public.employers\n",
        "query = \"\"\"\n",
        "    SELECT\n",
        "        COUNT(DISTINCT id)\n",
        "    FROM public.employers\n",
        "\"\"\""
      ]
    },
    {
      "cell_type": "code",
      "execution_count": 10,
      "id": "jVL4eshKhdqc",
      "metadata": {
        "id": "jVL4eshKhdqc"
      },
      "outputs": [
        {
          "data": {
            "text/html": [
              "<div>\n",
              "<style scoped>\n",
              "    .dataframe tbody tr th:only-of-type {\n",
              "        vertical-align: middle;\n",
              "    }\n",
              "\n",
              "    .dataframe tbody tr th {\n",
              "        vertical-align: top;\n",
              "    }\n",
              "\n",
              "    .dataframe thead th {\n",
              "        text-align: right;\n",
              "    }\n",
              "</style>\n",
              "<table border=\"1\" class=\"dataframe\">\n",
              "  <thead>\n",
              "    <tr style=\"text-align: right;\">\n",
              "      <th></th>\n",
              "      <th>count</th>\n",
              "    </tr>\n",
              "  </thead>\n",
              "  <tbody>\n",
              "    <tr>\n",
              "      <th>0</th>\n",
              "      <td>23501</td>\n",
              "    </tr>\n",
              "  </tbody>\n",
              "</table>\n",
              "</div>"
            ],
            "text/plain": [
              "   count\n",
              "0  23501"
            ]
          },
          "metadata": {},
          "output_type": "display_data"
        }
      ],
      "source": [
        "# Выполняем запрос и сохраняем результат в виде DataFrame\n",
        "df = pd.read_sql_query(query, connection)\n",
        "\n",
        "# Отображаем полученный результат\n",
        "display(df)"
      ]
    },
    {
      "cell_type": "markdown",
      "id": "a2bfff1f-c975-4bf6-84be-2185d79dcb76",
      "metadata": {
        "id": "a2bfff1f-c975-4bf6-84be-2185d79dcb76"
      },
      "source": [
        "3. Посчитате с помощью запроса количество регионов (таблица areas)."
      ]
    },
    {
      "cell_type": "code",
      "execution_count": 11,
      "id": "1m8QJwBYhey6",
      "metadata": {
        "id": "1m8QJwBYhey6"
      },
      "outputs": [],
      "source": [
        "# SQL-запрос для подсчета количества уникальных значений:\n",
        "# Подсчитываем количество уникальных значений в столбце id из таблицы public.areas\n",
        "query = f\"\"\"\n",
        "    SELECT\n",
        "        COUNT(DISTINCT id)\n",
        "    FROM public.areas\n",
        "\"\"\""
      ]
    },
    {
      "cell_type": "code",
      "execution_count": 12,
      "id": "EZsn9tlfhe7f",
      "metadata": {
        "id": "EZsn9tlfhe7f"
      },
      "outputs": [
        {
          "data": {
            "text/html": [
              "<div>\n",
              "<style scoped>\n",
              "    .dataframe tbody tr th:only-of-type {\n",
              "        vertical-align: middle;\n",
              "    }\n",
              "\n",
              "    .dataframe tbody tr th {\n",
              "        vertical-align: top;\n",
              "    }\n",
              "\n",
              "    .dataframe thead th {\n",
              "        text-align: right;\n",
              "    }\n",
              "</style>\n",
              "<table border=\"1\" class=\"dataframe\">\n",
              "  <thead>\n",
              "    <tr style=\"text-align: right;\">\n",
              "      <th></th>\n",
              "      <th>count</th>\n",
              "    </tr>\n",
              "  </thead>\n",
              "  <tbody>\n",
              "    <tr>\n",
              "      <th>0</th>\n",
              "      <td>1362</td>\n",
              "    </tr>\n",
              "  </tbody>\n",
              "</table>\n",
              "</div>"
            ],
            "text/plain": [
              "   count\n",
              "0   1362"
            ]
          },
          "metadata": {},
          "output_type": "display_data"
        }
      ],
      "source": [
        "# Выполняем запрос и сохраняем результат в виде DataFrame\n",
        "df = pd.read_sql_query(query, connection)\n",
        "\n",
        "# Отображаем полученный результат\n",
        "display(df)"
      ]
    },
    {
      "cell_type": "markdown",
      "id": "41bb59f3-53cc-4a67-a5bc-bedf573955e4",
      "metadata": {
        "id": "41bb59f3-53cc-4a67-a5bc-bedf573955e4"
      },
      "source": [
        "4. Посчитате с помощью запроса количество сфер деятельности в базе (таблица industries)."
      ]
    },
    {
      "cell_type": "code",
      "execution_count": 13,
      "id": "d286cf4c-707b-4cd2-9190-7ab3587d04a1",
      "metadata": {
        "id": "d286cf4c-707b-4cd2-9190-7ab3587d04a1"
      },
      "outputs": [],
      "source": [
        "# SQL-запрос для подсчета количества уникальных значений:\n",
        "# Подсчитываем количество уникальных значений в столбце id из таблицы public.industries\n",
        "query = f\"\"\"\n",
        "    SELECT\n",
        "        COUNT(DISTINCT id)\n",
        "    FROM public.industries\n",
        "\"\"\""
      ]
    },
    {
      "cell_type": "code",
      "execution_count": 14,
      "id": "JYAaoZ4qhfzW",
      "metadata": {
        "id": "JYAaoZ4qhfzW"
      },
      "outputs": [
        {
          "data": {
            "text/html": [
              "<div>\n",
              "<style scoped>\n",
              "    .dataframe tbody tr th:only-of-type {\n",
              "        vertical-align: middle;\n",
              "    }\n",
              "\n",
              "    .dataframe tbody tr th {\n",
              "        vertical-align: top;\n",
              "    }\n",
              "\n",
              "    .dataframe thead th {\n",
              "        text-align: right;\n",
              "    }\n",
              "</style>\n",
              "<table border=\"1\" class=\"dataframe\">\n",
              "  <thead>\n",
              "    <tr style=\"text-align: right;\">\n",
              "      <th></th>\n",
              "      <th>count</th>\n",
              "    </tr>\n",
              "  </thead>\n",
              "  <tbody>\n",
              "    <tr>\n",
              "      <th>0</th>\n",
              "      <td>294</td>\n",
              "    </tr>\n",
              "  </tbody>\n",
              "</table>\n",
              "</div>"
            ],
            "text/plain": [
              "   count\n",
              "0    294"
            ]
          },
          "metadata": {},
          "output_type": "display_data"
        }
      ],
      "source": [
        "# Выполняем запрос и сохраняем результат в виде DataFrame\n",
        "df = pd.read_sql_query(query, connection)\n",
        "\n",
        "# Отображаем полученный результат\n",
        "display(df)"
      ]
    },
    {
      "cell_type": "markdown",
      "id": "9a8a2181-6914-448b-85f1-38f5f18b8a93",
      "metadata": {
        "id": "9a8a2181-6914-448b-85f1-38f5f18b8a93"
      },
      "source": [
        "***"
      ]
    },
    {
      "cell_type": "markdown",
      "id": "be4e9bd3-a4db-4a20-82fb-6b02fc2957e0",
      "metadata": {
        "id": "be4e9bd3-a4db-4a20-82fb-6b02fc2957e0"
      },
      "source": [
        "# Предварительный анализ данных\n",
        "На основании предоставленных запросов и результатов проведён более детальный анализ текущей базы данных.\n",
        "\n",
        "---\n",
        "\n",
        "## **1. Количество вакансий в базе**\n",
        "- **Запрос:** Подсчет всех уникальных вакансий.\n",
        "- **Результат:** В базе данных насчитывается **49197 вакансий**.\n",
        "- **Вывод:**\n",
        "  - Впечатляющее количество вакансий свидетельствует о значительном охвате рынка труда.\n",
        "  - Важно учитывать, что не все вакансии могут быть актуальными: необходимо дальнейшее исследование для фильтрации устаревших и дублированных записей.\n",
        "  - Это открывает возможности для анализа, какие сферы и регионы являются наиболее активными.\n",
        "\n",
        "---\n",
        "\n",
        "## **2. Количество работодателей**\n",
        "- **Запрос:** Подсчет уникальных работодателей.\n",
        "- **Результат:** В базе содержится **23501 работодатель**.\n",
        "- **Вывод:**\n",
        "  - Разнообразие работодателей - от крупных корпораций до локальных бизнесов - демонстрирует широкий спектр предложений.\n",
        "  - Интересно изучить концентрацию вакансий среди лидирующих работодателей, таких как \"Яндекс\" или \"Сбер\".\n",
        "  - Также важно исследовать, какие индустрии наиболее популярны среди этих работодателей.\n",
        "\n",
        "---\n",
        "\n",
        "## **3. Количество регионов**\n",
        "- **Запрос:** Подсчет уникальных регионов.\n",
        "- **Результат:** В базе указано **1362 региона**.\n",
        "- **Вывод:**\n",
        "  - Географическое распределение впечатляет: данные охватывают регионы по всей стране.\n",
        "  - Можно исследовать различия в активности на рынке труда между крупными городами (Москва, Санкт-Петербург) и менее крупными регионами.\n",
        "  - Это предоставляет возможности для анализа региональных диспропорций в доступности работы.\n",
        "\n",
        "---\n",
        "\n",
        "## **4. Количество сфер деятельности**\n",
        "- **Запрос:** Подсчет уникальных сфер деятельности.\n",
        "- **Результат:** В базе содержится **294 уникальные сферы деятельности**.\n",
        "- **Вывод:**\n",
        "  - Наличие почти 300 сфер деятельности демонстрирует разнообразие профессиональных направлений.\n",
        "  - Интересно оценить, какие сферы занимают лидирующие позиции по количеству вакансий, например, IT, финансы или маркетинг.\n",
        "  - Важно изучить, какие сферы растут быстрее остальных, чтобы определить перспективные направления.\n",
        "\n",
        "---\n",
        "\n",
        "## **Общий вывод**\n",
        "\n",
        "1. **Масштаб данных:**\n",
        "   - Большое количество вакансий, работодателей и регионов указывает на то, что база является комплексной и универсальной.\n",
        "   - Она охватывает широкий спектр профессиональных направлений, позволяя составить полную картину рынка труда.\n",
        "\n",
        "2. **Инсайты и тенденции:**\n",
        "   - Вероятно, основная концентрация вакансий сосредоточена в крупных городах (Москва, Санкт-Петербург).\n",
        "   - IT и смежные сферы, скорее всего, лидируют по количеству вакансий и уровню зарплат.\n",
        "   - Необходимо подтвердить, какие индустрии являются драйверами роста, а какие остаются на периферии.\n",
        "\n",
        "3. **Потенциальные исследования:**\n",
        "   - Анализ динамики спроса на специалистов в разных регионах и сферах деятельности.\n",
        "   - Оценка востребованных навыков и должностей.\n",
        "   - Исследование влияния гибких графиков и удалённой работы на рынок труда.\n",
        "\n",
        "4. **Вопросы для дальнейшего анализа:**\n",
        "   - Какой процент вакансий приходится на столичные города по сравнению с регионами?\n",
        "   - Какие работодатели являются лидерами по количеству предложений?\n",
        "   - Как распределяются зарплатные вилки по регионам и профессиональным направлениям?\n",
        "\n",
        "**Вывод:** База данных предоставляет мощный инструмент для анализа рынка труда, выявления тенденций и составления прогноза. Её комплексность позволяет проводить как локальные, так и глобальные исследования, что делает её ценным ресурсом для понимания текущего состояния и динамики рынка."
      ]
    },
    {
      "cell_type": "markdown",
      "id": "8d62a9f3-f64e-4fe7-bdac-c4dffa16155e",
      "metadata": {
        "id": "8d62a9f3-f64e-4fe7-bdac-c4dffa16155e"
      },
      "source": [
        "# Юнит 4. Детальный анализ вакансий"
      ]
    },
    {
      "cell_type": "markdown",
      "id": "93053d3d-b284-481a-9cf7-012d7014c0e0",
      "metadata": {
        "id": "93053d3d-b284-481a-9cf7-012d7014c0e0"
      },
      "source": [
        "1. Напишите запрос, который позволит узнать, сколько (cnt) вакансий в каждом регионе (area).\n",
        "Отсортируйте по количеству вакансий в порядке убывания."
      ]
    },
    {
      "cell_type": "code",
      "execution_count": 15,
      "id": "3f069da6-fdc9-4ae7-b514-fafe2675efd3",
      "metadata": {
        "id": "3f069da6-fdc9-4ae7-b514-fafe2675efd3"
      },
      "outputs": [],
      "source": [
        "# SQL-запрос для подсчета количества вакансий по регионам:\n",
        "# Из таблицы public.vacancies объединяем данные с таблицей public.areas по полю area_id\n",
        "# Считаем количество вакансий для каждого региона, сортируем по убыванию количества и берем топ-5\n",
        "query = f\"\"\"\n",
        "    SELECT \n",
        "        a.name,              -- Название региона\n",
        "        COUNT(v.id) AS count -- Количество вакансий в регионе\n",
        "    FROM public.vacancies v\n",
        "    JOIN public.areas a\n",
        "        ON v.area_id = a.id  -- Соединение таблиц по area_id\n",
        "    GROUP BY a.name          -- Группировка по названию региона\n",
        "    ORDER BY count DESC      -- Сортировка по количеству вакансий в убывающем порядке\n",
        "    LIMIT 5                  -- Ограничение на 5 записей\n",
        "\"\"\""
      ]
    },
    {
      "cell_type": "code",
      "execution_count": 16,
      "id": "P7QL86hrjhRJ",
      "metadata": {
        "id": "P7QL86hrjhRJ"
      },
      "outputs": [
        {
          "data": {
            "text/html": [
              "<div>\n",
              "<style scoped>\n",
              "    .dataframe tbody tr th:only-of-type {\n",
              "        vertical-align: middle;\n",
              "    }\n",
              "\n",
              "    .dataframe tbody tr th {\n",
              "        vertical-align: top;\n",
              "    }\n",
              "\n",
              "    .dataframe thead th {\n",
              "        text-align: right;\n",
              "    }\n",
              "</style>\n",
              "<table border=\"1\" class=\"dataframe\">\n",
              "  <thead>\n",
              "    <tr style=\"text-align: right;\">\n",
              "      <th></th>\n",
              "      <th>name</th>\n",
              "      <th>count</th>\n",
              "    </tr>\n",
              "  </thead>\n",
              "  <tbody>\n",
              "    <tr>\n",
              "      <th>0</th>\n",
              "      <td>Москва</td>\n",
              "      <td>5333</td>\n",
              "    </tr>\n",
              "    <tr>\n",
              "      <th>1</th>\n",
              "      <td>Санкт-Петербург</td>\n",
              "      <td>2851</td>\n",
              "    </tr>\n",
              "    <tr>\n",
              "      <th>2</th>\n",
              "      <td>Минск</td>\n",
              "      <td>2112</td>\n",
              "    </tr>\n",
              "    <tr>\n",
              "      <th>3</th>\n",
              "      <td>Новосибирск</td>\n",
              "      <td>2006</td>\n",
              "    </tr>\n",
              "    <tr>\n",
              "      <th>4</th>\n",
              "      <td>Алматы</td>\n",
              "      <td>1892</td>\n",
              "    </tr>\n",
              "  </tbody>\n",
              "</table>\n",
              "</div>"
            ],
            "text/plain": [
              "              name  count\n",
              "0           Москва   5333\n",
              "1  Санкт-Петербург   2851\n",
              "2            Минск   2112\n",
              "3      Новосибирск   2006\n",
              "4           Алматы   1892"
            ]
          },
          "metadata": {},
          "output_type": "display_data"
        }
      ],
      "source": [
        "# Выполняем запрос и сохраняем результат в виде DataFrame\n",
        "df = pd.read_sql_query(query, connection)\n",
        "\n",
        "# Отображаем полученный результат\n",
        "display(df)"
      ]
    },
    {
      "cell_type": "markdown",
      "id": "4266f0b6-1646-492a-88b4-2f6a46502135",
      "metadata": {
        "id": "4266f0b6-1646-492a-88b4-2f6a46502135"
      },
      "source": [
        "2. Напишите запрос, чтобы определить у какого количества вакансий заполнено хотя бы одно из двух полей с зарплатой."
      ]
    },
    {
      "cell_type": "code",
      "execution_count": 17,
      "id": "0c44b350-72eb-4d65-8b54-a1fc449ba9fd",
      "metadata": {
        "id": "0c44b350-72eb-4d65-8b54-a1fc449ba9fd"
      },
      "outputs": [],
      "source": [
        "# SQL-запрос для подсчета количества вакансий, где указана зарплата:\n",
        "# Проверяем, что хотя бы одно из полей salary_from или salary_to не равно NULL\n",
        "query = f\"\"\"\n",
        "    SELECT\n",
        "        COUNT(*)\n",
        "    FROM public.vacancies\n",
        "    WHERE salary_from IS NOT NULL OR salary_to IS NOT NULL\n",
        "\"\"\""
      ]
    },
    {
      "cell_type": "code",
      "execution_count": 18,
      "id": "rhvwaMDkoWTi",
      "metadata": {
        "id": "rhvwaMDkoWTi"
      },
      "outputs": [
        {
          "data": {
            "text/html": [
              "<div>\n",
              "<style scoped>\n",
              "    .dataframe tbody tr th:only-of-type {\n",
              "        vertical-align: middle;\n",
              "    }\n",
              "\n",
              "    .dataframe tbody tr th {\n",
              "        vertical-align: top;\n",
              "    }\n",
              "\n",
              "    .dataframe thead th {\n",
              "        text-align: right;\n",
              "    }\n",
              "</style>\n",
              "<table border=\"1\" class=\"dataframe\">\n",
              "  <thead>\n",
              "    <tr style=\"text-align: right;\">\n",
              "      <th></th>\n",
              "      <th>count</th>\n",
              "    </tr>\n",
              "  </thead>\n",
              "  <tbody>\n",
              "    <tr>\n",
              "      <th>0</th>\n",
              "      <td>24073</td>\n",
              "    </tr>\n",
              "  </tbody>\n",
              "</table>\n",
              "</div>"
            ],
            "text/plain": [
              "   count\n",
              "0  24073"
            ]
          },
          "metadata": {},
          "output_type": "display_data"
        }
      ],
      "source": [
        "# Выполняем запрос и сохраняем результат в виде DataFrame\n",
        "df = pd.read_sql_query(query, connection)\n",
        "\n",
        "# Отображаем полученный результат\n",
        "display(df)"
      ]
    },
    {
      "cell_type": "markdown",
      "id": "635c4d5d-f323-4c66-b428-50a088120aa0",
      "metadata": {
        "id": "635c4d5d-f323-4c66-b428-50a088120aa0"
      },
      "source": [
        "3. Найдите средние значения для нижней и верхней границы зарплатной вилки. Округлите значения до целого."
      ]
    },
    {
      "cell_type": "code",
      "execution_count": 19,
      "id": "603cdbe4-0ec3-4106-8eaf-c73fcdd29165",
      "metadata": {
        "id": "603cdbe4-0ec3-4106-8eaf-c73fcdd29165"
      },
      "outputs": [],
      "source": [
        "query = f\"\"\"\n",
        "SELECT \n",
        "    ROUND(AVG(salary_from)) AS avg_salary_from, -- Среднее значение нижней границы зарплат\n",
        "    ROUND(AVG(salary_to)) AS avg_salary_to     -- Среднее значение верхней границы зарплат\n",
        "FROM public.vacancies\n",
        "WHERE salary_from IS NOT NULL OR salary_to IS NOT NULL; -- Учитываем только вакансии с указанными границами зарплат\n",
        "\"\"\""
      ]
    },
    {
      "cell_type": "code",
      "execution_count": 20,
      "id": "pswpAb66ovZZ",
      "metadata": {
        "id": "pswpAb66ovZZ"
      },
      "outputs": [
        {
          "data": {
            "text/html": [
              "<div>\n",
              "<style scoped>\n",
              "    .dataframe tbody tr th:only-of-type {\n",
              "        vertical-align: middle;\n",
              "    }\n",
              "\n",
              "    .dataframe tbody tr th {\n",
              "        vertical-align: top;\n",
              "    }\n",
              "\n",
              "    .dataframe thead th {\n",
              "        text-align: right;\n",
              "    }\n",
              "</style>\n",
              "<table border=\"1\" class=\"dataframe\">\n",
              "  <thead>\n",
              "    <tr style=\"text-align: right;\">\n",
              "      <th></th>\n",
              "      <th>avg_salary_from</th>\n",
              "      <th>avg_salary_to</th>\n",
              "    </tr>\n",
              "  </thead>\n",
              "  <tbody>\n",
              "    <tr>\n",
              "      <th>0</th>\n",
              "      <td>71065.0</td>\n",
              "      <td>110537.0</td>\n",
              "    </tr>\n",
              "  </tbody>\n",
              "</table>\n",
              "</div>"
            ],
            "text/plain": [
              "   avg_salary_from  avg_salary_to\n",
              "0          71065.0       110537.0"
            ]
          },
          "metadata": {},
          "output_type": "display_data"
        }
      ],
      "source": [
        "# Выполняем запрос и сохраняем результат в виде DataFrame\n",
        "df = pd.read_sql_query(query, connection)\n",
        "\n",
        "# Отображаем полученный результат\n",
        "display(df)"
      ]
    },
    {
      "cell_type": "markdown",
      "id": "f3fdaec9-5fd3-4260-9cf5-1d7406b628a5",
      "metadata": {
        "id": "f3fdaec9-5fd3-4260-9cf5-1d7406b628a5"
      },
      "source": [
        "4. Напишите запрос, который выведет количество вакансий для каждого сочетания типа рабочего графика (schedule) и типа трудоустройства (employment), используемого в вакансиях. Результат отсортируйте по убыванию количества.\n"
      ]
    },
    {
      "cell_type": "code",
      "execution_count": 21,
      "id": "1ea710ec-871b-431e-9462-c7d0fd87011b",
      "metadata": {
        "id": "1ea710ec-871b-431e-9462-c7d0fd87011b"
      },
      "outputs": [],
      "source": [
        "# SQL-запрос для подсчета количества вакансий по графику работы и занятости:\n",
        "# Группируем данные по полям schedule и employment, сортируем по убыванию количества и берем топ-2\n",
        "query = f\"\"\"\n",
        "    SELECT\n",
        "        schedule,           -- График работы (например, полный день, сменный)\n",
        "        employment,         -- Тип занятости (например, полная занятость, частичная)\n",
        "        COUNT(*) AS count   -- Количество вакансий для каждой комбинации\n",
        "    FROM public.vacancies\n",
        "    GROUP BY schedule, employment -- Группировка по графику и типу занятости\n",
        "    ORDER BY count DESC           -- Сортировка по количеству вакансий в убывающем порядке\n",
        "    LIMIT 2                       -- Ограничение на 2 записи\n",
        "\"\"\""
      ]
    },
    {
      "cell_type": "code",
      "execution_count": 22,
      "id": "lGUVqavdo4JQ",
      "metadata": {
        "id": "lGUVqavdo4JQ"
      },
      "outputs": [
        {
          "data": {
            "text/html": [
              "<div>\n",
              "<style scoped>\n",
              "    .dataframe tbody tr th:only-of-type {\n",
              "        vertical-align: middle;\n",
              "    }\n",
              "\n",
              "    .dataframe tbody tr th {\n",
              "        vertical-align: top;\n",
              "    }\n",
              "\n",
              "    .dataframe thead th {\n",
              "        text-align: right;\n",
              "    }\n",
              "</style>\n",
              "<table border=\"1\" class=\"dataframe\">\n",
              "  <thead>\n",
              "    <tr style=\"text-align: right;\">\n",
              "      <th></th>\n",
              "      <th>schedule</th>\n",
              "      <th>employment</th>\n",
              "      <th>count</th>\n",
              "    </tr>\n",
              "  </thead>\n",
              "  <tbody>\n",
              "    <tr>\n",
              "      <th>0</th>\n",
              "      <td>Полный день</td>\n",
              "      <td>Полная занятость</td>\n",
              "      <td>35367</td>\n",
              "    </tr>\n",
              "    <tr>\n",
              "      <th>1</th>\n",
              "      <td>Удаленная работа</td>\n",
              "      <td>Полная занятость</td>\n",
              "      <td>7802</td>\n",
              "    </tr>\n",
              "  </tbody>\n",
              "</table>\n",
              "</div>"
            ],
            "text/plain": [
              "           schedule        employment  count\n",
              "0       Полный день  Полная занятость  35367\n",
              "1  Удаленная работа  Полная занятость   7802"
            ]
          },
          "metadata": {},
          "output_type": "display_data"
        }
      ],
      "source": [
        "# Выполняем запрос и сохраняем результат в виде DataFrame\n",
        "df = pd.read_sql_query(query, connection)\n",
        "\n",
        "# Отображаем полученный результат\n",
        "display(df)"
      ]
    },
    {
      "cell_type": "markdown",
      "id": "0136ffee-0ead-4a6b-b608-61d1c753a438",
      "metadata": {
        "id": "0136ffee-0ead-4a6b-b608-61d1c753a438"
      },
      "source": [
        "5. Напишите запрос, выводящий значения поля Требуемый опыт работы (experience) в порядке возрастания количества вакансий, в которых указан данный вариант опыта. "
      ]
    },
    {
      "cell_type": "code",
      "execution_count": 23,
      "id": "5b3a8e79-f7ab-4008-b767-12aea3a205ea",
      "metadata": {
        "id": "5b3a8e79-f7ab-4008-b767-12aea3a205ea"
      },
      "outputs": [],
      "source": [
        "# SQL-запрос для подсчета количества вакансий по опыту работы:\n",
        "# Проверяем, что поле experience не равно NULL, группируем по уровню опыта и сортируем по возрастанию количества\n",
        "query = f\"\"\"\n",
        "    SELECT\n",
        "        experience,        -- Уровень опыта (например, \"Нет опыта\", \"От 1 года\")\n",
        "        COUNT(*) AS count  -- Количество вакансий для каждого уровня опыта\n",
        "    FROM public.vacancies\n",
        "    WHERE experience IS NOT NULL -- Учитываем только строки, где поле experience заполнено\n",
        "    GROUP BY experience          -- Группируем по уровню опыта\n",
        "    ORDER BY count ASC           -- Сортируем по количеству вакансий в порядке возрастания\n",
        "\"\"\""
      ]
    },
    {
      "cell_type": "code",
      "execution_count": 24,
      "id": "3Is64Y-hpDpq",
      "metadata": {
        "id": "3Is64Y-hpDpq"
      },
      "outputs": [
        {
          "data": {
            "text/html": [
              "<div>\n",
              "<style scoped>\n",
              "    .dataframe tbody tr th:only-of-type {\n",
              "        vertical-align: middle;\n",
              "    }\n",
              "\n",
              "    .dataframe tbody tr th {\n",
              "        vertical-align: top;\n",
              "    }\n",
              "\n",
              "    .dataframe thead th {\n",
              "        text-align: right;\n",
              "    }\n",
              "</style>\n",
              "<table border=\"1\" class=\"dataframe\">\n",
              "  <thead>\n",
              "    <tr style=\"text-align: right;\">\n",
              "      <th></th>\n",
              "      <th>experience</th>\n",
              "      <th>count</th>\n",
              "    </tr>\n",
              "  </thead>\n",
              "  <tbody>\n",
              "    <tr>\n",
              "      <th>0</th>\n",
              "      <td>Более 6 лет</td>\n",
              "      <td>1337</td>\n",
              "    </tr>\n",
              "    <tr>\n",
              "      <th>1</th>\n",
              "      <td>Нет опыта</td>\n",
              "      <td>7197</td>\n",
              "    </tr>\n",
              "    <tr>\n",
              "      <th>2</th>\n",
              "      <td>От 3 до 6 лет</td>\n",
              "      <td>14511</td>\n",
              "    </tr>\n",
              "    <tr>\n",
              "      <th>3</th>\n",
              "      <td>От 1 года до 3 лет</td>\n",
              "      <td>26152</td>\n",
              "    </tr>\n",
              "  </tbody>\n",
              "</table>\n",
              "</div>"
            ],
            "text/plain": [
              "           experience  count\n",
              "0         Более 6 лет   1337\n",
              "1           Нет опыта   7197\n",
              "2       От 3 до 6 лет  14511\n",
              "3  От 1 года до 3 лет  26152"
            ]
          },
          "metadata": {},
          "output_type": "display_data"
        }
      ],
      "source": [
        "# Выполняем запрос и сохраняем результат в виде DataFrame\n",
        "df = pd.read_sql_query(query, connection)\n",
        "\n",
        "# Отображаем полученный результат\n",
        "display(df)"
      ]
    },
    {
      "cell_type": "markdown",
      "id": "oq2b7n1QpIka",
      "metadata": {
        "id": "oq2b7n1QpIka"
      },
      "source": [
        "***"
      ]
    },
    {
      "cell_type": "markdown",
      "id": "e91f87ed-e25c-4f96-9f92-b642e8c0b4fa",
      "metadata": {
        "id": "e91f87ed-e25c-4f96-9f92-b642e8c0b4fa"
      },
      "source": [
        "# Предварительный анализ данных\n",
        "\n",
        "## 1. Количество вакансий по регионам\n",
        "- **Наибольшее количество вакансий** сосредоточено в следующих городах:\n",
        "  - Москва: **5333 вакансии**.\n",
        "  - Санкт-Петербург: **2851 вакансия**.\n",
        "  - Минск: **2112 вакансий**.\n",
        "- Значительная активность также отмечена в:\n",
        "  - Новосибирске: **2006 вакансий**.\n",
        "  - Алматы: **1892 вакансии**.\n",
        "- **Вывод**: Крупные города остаются основными центрами занятости, предлагая наибольшее количество вакансий.\n",
        "\n",
        "---\n",
        "\n",
        "## 2. Заполнение данных о зарплатах\n",
        "- Всего **24073 вакансии** содержат хотя бы одно значение в полях зарплатной вилки (`salary_from` или `salary_to`).\n",
        "- **Вывод**: Почти половина вакансий указывает зарплаты, но значительная часть информации о зарплатах отсутствует, что может усложнять анализ рынка.\n",
        "\n",
        "---\n",
        "\n",
        "## 3. Средние значения зарплатных вилок\n",
        "- Среднее значение:\n",
        "  - **Нижней границы (`salary_from`)**: **71,065 рублей**.\n",
        "  - **Верхней границы (`salary_to`)**: **110,537 рублей**.\n",
        "- **Вывод**: Разрыв между нижней и верхней границей подтверждает высокую вариативность зарплат на рынке труда.\n",
        "\n",
        "---\n",
        "\n",
        "## 4. Количество вакансий по графику работы и типу занятости\n",
        "- **Полный рабочий день и полная занятость** лидируют — **35,367 вакансий**.\n",
        "- **Удалённая работа с полной занятостью** занимает второе место — **7,802 вакансии**.\n",
        "- **Вывод**: Удалённый формат труда становится популярнее, особенно в условиях полной занятости.\n",
        "\n",
        "---\n",
        "\n",
        "## 5. Требуемый опыт работы\n",
        "- Большинство вакансий рассчитаны на кандидатов с опытом:\n",
        "  - **От 1 года до 3 лет**: **26,152 вакансии**.\n",
        "  - **От 3 до 6 лет**: **14,511 вакансий**.\n",
        "- Для новичков и кандидатов без опыта — **7,197 вакансий**.\n",
        "- **Вывод**: Несмотря на доминирование вакансий для опытных специалистов, рынок предлагает достаточное количество возможностей для начинающих.\n",
        "\n",
        "---\n",
        "\n",
        "# Дальнейшие шаги анализа\n",
        "\n",
        "1. **Анализ зарплат по регионам и профессиям.** \n",
        "   - Изучить, как варьируются зарплаты в зависимости от географии и отрасли.\n",
        "\n",
        "2. **Динамика спроса.**\n",
        "   - Рассмотреть тенденции на рынке труда в зависимости от города.\n",
        "\n",
        "3. **Глубокий анализ графиков работы.**\n",
        "   - Оценить популярность удалённой работы в разных регионах и сферах.\n",
        "\n",
        "4. **Анализ вакансий без указания зарплат.**\n",
        "   - Проверить, есть ли корреляции между отсутствием зарплатных данных и типом занятости или отраслью."
      ]
    },
    {
      "cell_type": "markdown",
      "id": "7ea20ab6-04a7-40a0-adec-443a0e5a42c3",
      "metadata": {
        "id": "7ea20ab6-04a7-40a0-adec-443a0e5a42c3"
      },
      "source": [
        "# Юнит 5. Анализ работодателей"
      ]
    },
    {
      "cell_type": "markdown",
      "id": "968aed80-74ef-4ffb-b5bf-c65b84e9caea",
      "metadata": {
        "id": "968aed80-74ef-4ffb-b5bf-c65b84e9caea"
      },
      "source": [
        "1. Напишите запрос, который позволит узнать, какие работодатели находятся на первом и пятом месте по количеству вакансий."
      ]
    },
    {
      "cell_type": "code",
      "execution_count": 25,
      "id": "f2d62796-d400-4ec1-a675-88112739a50e",
      "metadata": {
        "id": "f2d62796-d400-4ec1-a675-88112739a50e"
      },
      "outputs": [],
      "source": [
        "# SQL-запрос для подсчета количества вакансий у работодателей:\n",
        "# Соединяем таблицы public.vacancies и public.employers по идентификатору работодателя\n",
        "# Подсчитываем количество вакансий для каждого работодателя, сортируем по убыванию и берем топ-5\n",
        "query = f\"\"\"\n",
        "    SELECT\n",
        "        e.name AS employer_name, -- Название работодателя\n",
        "        COUNT(v.id) AS vacancy_count -- Количество вакансий\n",
        "    FROM public.vacancies v\n",
        "    JOIN public.employers e\n",
        "        ON e.id = v.employer_id -- Соединение по идентификатору работодателя\n",
        "    GROUP BY e.name             -- Группируем по названию работодателя\n",
        "    ORDER BY vacancy_count DESC -- Сортируем по количеству вакансий в убывающем порядке\n",
        "    LIMIT 5                     -- Ограничиваем результат до 5 записей\n",
        "\"\"\""
      ]
    },
    {
      "cell_type": "code",
      "execution_count": 26,
      "id": "64tOMkAxqkQk",
      "metadata": {
        "id": "64tOMkAxqkQk"
      },
      "outputs": [
        {
          "data": {
            "text/html": [
              "<div>\n",
              "<style scoped>\n",
              "    .dataframe tbody tr th:only-of-type {\n",
              "        vertical-align: middle;\n",
              "    }\n",
              "\n",
              "    .dataframe tbody tr th {\n",
              "        vertical-align: top;\n",
              "    }\n",
              "\n",
              "    .dataframe thead th {\n",
              "        text-align: right;\n",
              "    }\n",
              "</style>\n",
              "<table border=\"1\" class=\"dataframe\">\n",
              "  <thead>\n",
              "    <tr style=\"text-align: right;\">\n",
              "      <th></th>\n",
              "      <th>employer_name</th>\n",
              "      <th>vacancy_count</th>\n",
              "    </tr>\n",
              "  </thead>\n",
              "  <tbody>\n",
              "    <tr>\n",
              "      <th>0</th>\n",
              "      <td>Яндекс</td>\n",
              "      <td>1933</td>\n",
              "    </tr>\n",
              "    <tr>\n",
              "      <th>1</th>\n",
              "      <td>Ростелеком</td>\n",
              "      <td>491</td>\n",
              "    </tr>\n",
              "    <tr>\n",
              "      <th>2</th>\n",
              "      <td>Тинькофф</td>\n",
              "      <td>444</td>\n",
              "    </tr>\n",
              "    <tr>\n",
              "      <th>3</th>\n",
              "      <td>СБЕР</td>\n",
              "      <td>428</td>\n",
              "    </tr>\n",
              "    <tr>\n",
              "      <th>4</th>\n",
              "      <td>Газпром нефть</td>\n",
              "      <td>331</td>\n",
              "    </tr>\n",
              "  </tbody>\n",
              "</table>\n",
              "</div>"
            ],
            "text/plain": [
              "   employer_name  vacancy_count\n",
              "0         Яндекс           1933\n",
              "1     Ростелеком            491\n",
              "2       Тинькофф            444\n",
              "3           СБЕР            428\n",
              "4  Газпром нефть            331"
            ]
          },
          "metadata": {},
          "output_type": "display_data"
        }
      ],
      "source": [
        "# Выполняем запрос и сохраняем результат в виде DataFrame\n",
        "df = pd.read_sql_query(query, connection)\n",
        "\n",
        "# Отображаем полученный результат\n",
        "display(df)"
      ]
    },
    {
      "cell_type": "markdown",
      "id": "68377cfc-b378-43dc-ab7d-1195abf2c515",
      "metadata": {
        "id": "68377cfc-b378-43dc-ab7d-1195abf2c515"
      },
      "source": [
        "2. Напишите запрос, который для каждого региона выведет количество работодателей и вакансий в нём.\n",
        "Среди регионов, в которых нет вакансий, найдите тот, в котором наибольшее количество работодателей.\n"
      ]
    },
    {
      "cell_type": "code",
      "execution_count": 27,
      "id": "dd7df27a-e3e8-412e-a21a-5d389b71e891",
      "metadata": {
        "id": "dd7df27a-e3e8-412e-a21a-5d389b71e891"
      },
      "outputs": [],
      "source": [
        "# SQL-запрос для анализа регионов:\n",
        "# Находим регионы, где есть работодатели, но нет вакансий\n",
        "# Считаем количество работодателей и вакансий по регионам\n",
        "query = f\"\"\"\n",
        "    SELECT\n",
        "        a.name AS reg_name,          -- Название региона\n",
        "        COUNT(e.name) AS emp_count, -- Количество работодателей в регионе\n",
        "        COUNT(v.id) AS vac_count    -- Количество вакансий в регионе (будет 0)\n",
        "    FROM public.areas a\n",
        "    JOIN public.employers e\n",
        "        ON a.id = e.area            -- Соединение по региону работодателя\n",
        "    LEFT JOIN public.vacancies v\n",
        "        ON v.area_id = a.id         -- Левое соединение с вакансиями (возможно NULL)\n",
        "    GROUP BY a.name                 -- Группировка по названию региона\n",
        "    HAVING COUNT(v.id) = 0          -- Оставляем только регионы без вакансий\n",
        "    ORDER BY emp_count DESC         -- Сортируем по количеству работодателей в убывающем порядке\n",
        "\"\"\""
      ]
    },
    {
      "cell_type": "code",
      "execution_count": 28,
      "id": "x1ikWbydrbf6",
      "metadata": {
        "id": "x1ikWbydrbf6"
      },
      "outputs": [
        {
          "data": {
            "text/html": [
              "<div>\n",
              "<style scoped>\n",
              "    .dataframe tbody tr th:only-of-type {\n",
              "        vertical-align: middle;\n",
              "    }\n",
              "\n",
              "    .dataframe tbody tr th {\n",
              "        vertical-align: top;\n",
              "    }\n",
              "\n",
              "    .dataframe thead th {\n",
              "        text-align: right;\n",
              "    }\n",
              "</style>\n",
              "<table border=\"1\" class=\"dataframe\">\n",
              "  <thead>\n",
              "    <tr style=\"text-align: right;\">\n",
              "      <th></th>\n",
              "      <th>reg_name</th>\n",
              "      <th>emp_count</th>\n",
              "      <th>vac_count</th>\n",
              "    </tr>\n",
              "  </thead>\n",
              "  <tbody>\n",
              "    <tr>\n",
              "      <th>0</th>\n",
              "      <td>Россия</td>\n",
              "      <td>410</td>\n",
              "      <td>0</td>\n",
              "    </tr>\n",
              "    <tr>\n",
              "      <th>1</th>\n",
              "      <td>Казахстан</td>\n",
              "      <td>207</td>\n",
              "      <td>0</td>\n",
              "    </tr>\n",
              "    <tr>\n",
              "      <th>2</th>\n",
              "      <td>Московская область</td>\n",
              "      <td>75</td>\n",
              "      <td>0</td>\n",
              "    </tr>\n",
              "    <tr>\n",
              "      <th>3</th>\n",
              "      <td>Краснодарский край</td>\n",
              "      <td>19</td>\n",
              "      <td>0</td>\n",
              "    </tr>\n",
              "    <tr>\n",
              "      <th>4</th>\n",
              "      <td>Беларусь</td>\n",
              "      <td>18</td>\n",
              "      <td>0</td>\n",
              "    </tr>\n",
              "    <tr>\n",
              "      <th>...</th>\n",
              "      <td>...</td>\n",
              "      <td>...</td>\n",
              "      <td>...</td>\n",
              "    </tr>\n",
              "    <tr>\n",
              "      <th>181</th>\n",
              "      <td>Удобная</td>\n",
              "      <td>1</td>\n",
              "      <td>0</td>\n",
              "    </tr>\n",
              "    <tr>\n",
              "      <th>182</th>\n",
              "      <td>Майна (Ульяновская область)</td>\n",
              "      <td>1</td>\n",
              "      <td>0</td>\n",
              "    </tr>\n",
              "    <tr>\n",
              "      <th>183</th>\n",
              "      <td>Верхнетуломский</td>\n",
              "      <td>1</td>\n",
              "      <td>0</td>\n",
              "    </tr>\n",
              "    <tr>\n",
              "      <th>184</th>\n",
              "      <td>Жаркент</td>\n",
              "      <td>1</td>\n",
              "      <td>0</td>\n",
              "    </tr>\n",
              "    <tr>\n",
              "      <th>185</th>\n",
              "      <td>Михайловка (Уфимский район, Башкортостан)</td>\n",
              "      <td>1</td>\n",
              "      <td>0</td>\n",
              "    </tr>\n",
              "  </tbody>\n",
              "</table>\n",
              "<p>186 rows × 3 columns</p>\n",
              "</div>"
            ],
            "text/plain": [
              "                                      reg_name  emp_count  vac_count\n",
              "0                                       Россия        410          0\n",
              "1                                    Казахстан        207          0\n",
              "2                           Московская область         75          0\n",
              "3                           Краснодарский край         19          0\n",
              "4                                     Беларусь         18          0\n",
              "..                                         ...        ...        ...\n",
              "181                                    Удобная          1          0\n",
              "182                Майна (Ульяновская область)          1          0\n",
              "183                            Верхнетуломский          1          0\n",
              "184                                    Жаркент          1          0\n",
              "185  Михайловка (Уфимский район, Башкортостан)          1          0\n",
              "\n",
              "[186 rows x 3 columns]"
            ]
          },
          "metadata": {},
          "output_type": "display_data"
        }
      ],
      "source": [
        "\n",
        "# Выполняем запрос и сохраняем результат в виде DataFrame\n",
        "df = pd.read_sql_query(query, connection)\n",
        "\n",
        "# Отображаем полученный результат\n",
        "display(df)"
      ]
    },
    {
      "cell_type": "markdown",
      "id": "f2fe0acb-ab1a-4e15-9326-2560e22d73c1",
      "metadata": {
        "id": "f2fe0acb-ab1a-4e15-9326-2560e22d73c1"
      },
      "source": [
        "3. Для каждого работодателя посчитайте количество регионов, в которых он публикует свои вакансии. Отсортируйте результат по убыванию количества.\n"
      ]
    },
    {
      "cell_type": "code",
      "execution_count": 29,
      "id": "6271f8ad-bd2e-4196-ae4a-5b39c4c1010e",
      "metadata": {
        "id": "6271f8ad-bd2e-4196-ae4a-5b39c4c1010e"
      },
      "outputs": [],
      "source": [
        "# SQL-запрос для подсчета количества уникальных регионов, где работодатели размещают вакансии:\n",
        "# Соединяем таблицы public.employers и public.vacancies по идентификатору работодателя\n",
        "# Подсчитываем количество уникальных регионов, где у каждого работодателя есть вакансии\n",
        "query = \"\"\"\n",
        "    SELECT\n",
        "        e.name AS employer_name,      -- Название работодателя\n",
        "        COUNT(DISTINCT v.area_id) AS unique_regions_count -- Количество уникальных регионов с вакансиями\n",
        "    FROM public.employers e\n",
        "    JOIN public.vacancies v\n",
        "        ON e.id = v.employer_id       -- Соединение по идентификатору работодателя\n",
        "    GROUP BY e.name                   -- Группировка по имени работодателя\n",
        "    ORDER BY unique_regions_count DESC -- Сортировка по убыванию количества уникальных регионов\n",
        "\"\"\""
      ]
    },
    {
      "cell_type": "code",
      "execution_count": 30,
      "id": "1EIvX3HasH4F",
      "metadata": {
        "id": "1EIvX3HasH4F"
      },
      "outputs": [
        {
          "data": {
            "text/html": [
              "<div>\n",
              "<style scoped>\n",
              "    .dataframe tbody tr th:only-of-type {\n",
              "        vertical-align: middle;\n",
              "    }\n",
              "\n",
              "    .dataframe tbody tr th {\n",
              "        vertical-align: top;\n",
              "    }\n",
              "\n",
              "    .dataframe thead th {\n",
              "        text-align: right;\n",
              "    }\n",
              "</style>\n",
              "<table border=\"1\" class=\"dataframe\">\n",
              "  <thead>\n",
              "    <tr style=\"text-align: right;\">\n",
              "      <th></th>\n",
              "      <th>employer_name</th>\n",
              "      <th>unique_regions_count</th>\n",
              "    </tr>\n",
              "  </thead>\n",
              "  <tbody>\n",
              "    <tr>\n",
              "      <th>0</th>\n",
              "      <td>Яндекс</td>\n",
              "      <td>181</td>\n",
              "    </tr>\n",
              "    <tr>\n",
              "      <th>1</th>\n",
              "      <td>Ростелеком</td>\n",
              "      <td>152</td>\n",
              "    </tr>\n",
              "    <tr>\n",
              "      <th>2</th>\n",
              "      <td>Спецремонт</td>\n",
              "      <td>116</td>\n",
              "    </tr>\n",
              "    <tr>\n",
              "      <th>3</th>\n",
              "      <td>Поляков Денис Иванович</td>\n",
              "      <td>88</td>\n",
              "    </tr>\n",
              "    <tr>\n",
              "      <th>4</th>\n",
              "      <td>ООО ЕФИН</td>\n",
              "      <td>71</td>\n",
              "    </tr>\n",
              "    <tr>\n",
              "      <th>...</th>\n",
              "      <td>...</td>\n",
              "      <td>...</td>\n",
              "    </tr>\n",
              "    <tr>\n",
              "      <th>14761</th>\n",
              "      <td>UniSol</td>\n",
              "      <td>1</td>\n",
              "    </tr>\n",
              "    <tr>\n",
              "      <th>14762</th>\n",
              "      <td>UNISTORY LLC</td>\n",
              "      <td>1</td>\n",
              "    </tr>\n",
              "    <tr>\n",
              "      <th>14763</th>\n",
              "      <td>UNIT6</td>\n",
              "      <td>1</td>\n",
              "    </tr>\n",
              "    <tr>\n",
              "      <th>14764</th>\n",
              "      <td>United Distribution</td>\n",
              "      <td>1</td>\n",
              "    </tr>\n",
              "    <tr>\n",
              "      <th>14765</th>\n",
              "      <td>UNITEL LLC</td>\n",
              "      <td>1</td>\n",
              "    </tr>\n",
              "  </tbody>\n",
              "</table>\n",
              "<p>14766 rows × 2 columns</p>\n",
              "</div>"
            ],
            "text/plain": [
              "                employer_name  unique_regions_count\n",
              "0                      Яндекс                   181\n",
              "1                  Ростелеком                   152\n",
              "2                  Спецремонт                   116\n",
              "3      Поляков Денис Иванович                    88\n",
              "4                   ООО ЕФИН                     71\n",
              "...                       ...                   ...\n",
              "14761                  UniSol                     1\n",
              "14762            UNISTORY LLC                     1\n",
              "14763                   UNIT6                     1\n",
              "14764     United Distribution                     1\n",
              "14765              UNITEL LLC                     1\n",
              "\n",
              "[14766 rows x 2 columns]"
            ]
          },
          "metadata": {},
          "output_type": "display_data"
        }
      ],
      "source": [
        "# Выполняем запрос и сохраняем результат в виде DataFrame\n",
        "df = pd.read_sql_query(query, connection)\n",
        "\n",
        "# Отображаем полученный результат\n",
        "display(df)"
      ]
    },
    {
      "cell_type": "markdown",
      "id": "eab2206d-d95b-468b-8e5f-34381abf0ce7",
      "metadata": {
        "id": "eab2206d-d95b-468b-8e5f-34381abf0ce7"
      },
      "source": [
        "4. Напишите запрос для подсчёта количества работодателей, у которых не указана сфера деятельности. "
      ]
    },
    {
      "cell_type": "code",
      "execution_count": 31,
      "id": "80defb23-bfb1-4a18-8be6-bf36aa7165d5",
      "metadata": {
        "id": "80defb23-bfb1-4a18-8be6-bf36aa7165d5"
      },
      "outputs": [],
      "source": [
        "# SQL-запрос для подсчета количества работодателей, у которых нет привязки к индустриям:\n",
        "# Выполняем левое соединение таблиц public.employers и public.employers_industries\n",
        "# Считаем количество записей, где industry_id имеет значение NULL\n",
        "query = \"\"\"\n",
        "    SELECT\n",
        "        COUNT(e.id) AS employers_without_industry -- Подсчет количества работодателей без привязки к индустрии\n",
        "    FROM public.employers e\n",
        "    LEFT JOIN public.employers_industries i\n",
        "        ON e.id = i.employer_id -- Соединение по идентификатору работодателя\n",
        "    WHERE i.industry_id IS NULL -- Оставляем только записи без привязки к индустриям\n",
        "\"\"\""
      ]
    },
    {
      "cell_type": "code",
      "execution_count": 32,
      "id": "Dp_yCx6ysQSu",
      "metadata": {
        "id": "Dp_yCx6ysQSu"
      },
      "outputs": [
        {
          "data": {
            "text/html": [
              "<div>\n",
              "<style scoped>\n",
              "    .dataframe tbody tr th:only-of-type {\n",
              "        vertical-align: middle;\n",
              "    }\n",
              "\n",
              "    .dataframe tbody tr th {\n",
              "        vertical-align: top;\n",
              "    }\n",
              "\n",
              "    .dataframe thead th {\n",
              "        text-align: right;\n",
              "    }\n",
              "</style>\n",
              "<table border=\"1\" class=\"dataframe\">\n",
              "  <thead>\n",
              "    <tr style=\"text-align: right;\">\n",
              "      <th></th>\n",
              "      <th>employers_without_industry</th>\n",
              "    </tr>\n",
              "  </thead>\n",
              "  <tbody>\n",
              "    <tr>\n",
              "      <th>0</th>\n",
              "      <td>8419</td>\n",
              "    </tr>\n",
              "  </tbody>\n",
              "</table>\n",
              "</div>"
            ],
            "text/plain": [
              "   employers_without_industry\n",
              "0                        8419"
            ]
          },
          "metadata": {},
          "output_type": "display_data"
        }
      ],
      "source": [
        "# Выполняем запрос и сохраняем результат в виде DataFrame\n",
        "df = pd.read_sql_query(query, connection)\n",
        "\n",
        "# Отображаем полученный результат\n",
        "display(df)"
      ]
    },
    {
      "cell_type": "markdown",
      "id": "0112af31-f6b0-4e3b-82ab-71296e752e5e",
      "metadata": {
        "id": "0112af31-f6b0-4e3b-82ab-71296e752e5e"
      },
      "source": [
        "5. Напишите запрос, чтобы узнать название компании, находящейся на третьем месте в алфавитном списке (по названию) компаний, у которых указано четыре сферы деятельности. "
      ]
    },
    {
      "cell_type": "code",
      "execution_count": 33,
      "id": "973b0cfc-a972-470a-8b4a-68744ef220c4",
      "metadata": {
        "id": "973b0cfc-a972-470a-8b4a-68744ef220c4"
      },
      "outputs": [],
      "source": [
        "# SQL-запрос для получения работодателей, связанных ровно с четырьмя индустриями:\n",
        "# Соединяем таблицы public.employers и public.employers_industries, группируем по имени работодателя\n",
        "# Выбираем только тех, у кого ровно 4 записи в таблице employers_industries\n",
        "query = \"\"\"\n",
        "    SELECT\n",
        "        e.name AS employer_name,      -- Название работодателя\n",
        "        COUNT(i.industry_id) AS industry_count -- Количество индустрий, связанных с работодателем\n",
        "    FROM public.employers e\n",
        "    JOIN public.employers_industries i\n",
        "        ON e.id = i.employer_id       -- Соединение по идентификатору работодателя\n",
        "    GROUP BY e.name                   -- Группировка по имени работодателя\n",
        "    HAVING COUNT(i.industry_id) = 4   -- Условие: ровно 4 индустрии\n",
        "    ORDER BY employer_name ASC        -- Сортировка по имени работодателя в алфавитном порядке\n",
        "\"\"\""
      ]
    },
    {
      "cell_type": "code",
      "execution_count": 34,
      "id": "xsPtpp8EsaED",
      "metadata": {
        "id": "xsPtpp8EsaED"
      },
      "outputs": [
        {
          "data": {
            "text/html": [
              "<div>\n",
              "<style scoped>\n",
              "    .dataframe tbody tr th:only-of-type {\n",
              "        vertical-align: middle;\n",
              "    }\n",
              "\n",
              "    .dataframe tbody tr th {\n",
              "        vertical-align: top;\n",
              "    }\n",
              "\n",
              "    .dataframe thead th {\n",
              "        text-align: right;\n",
              "    }\n",
              "</style>\n",
              "<table border=\"1\" class=\"dataframe\">\n",
              "  <thead>\n",
              "    <tr style=\"text-align: right;\">\n",
              "      <th></th>\n",
              "      <th>employer_name</th>\n",
              "      <th>industry_count</th>\n",
              "    </tr>\n",
              "  </thead>\n",
              "  <tbody>\n",
              "    <tr>\n",
              "      <th>0</th>\n",
              "      <td>101 Интернет</td>\n",
              "      <td>4</td>\n",
              "    </tr>\n",
              "    <tr>\n",
              "      <th>1</th>\n",
              "      <td>21vek.by</td>\n",
              "      <td>4</td>\n",
              "    </tr>\n",
              "    <tr>\n",
              "      <th>2</th>\n",
              "      <td>2ГИС</td>\n",
              "      <td>4</td>\n",
              "    </tr>\n",
              "    <tr>\n",
              "      <th>3</th>\n",
              "      <td>2К</td>\n",
              "      <td>4</td>\n",
              "    </tr>\n",
              "    <tr>\n",
              "      <th>4</th>\n",
              "      <td>4 пикселя +</td>\n",
              "      <td>4</td>\n",
              "    </tr>\n",
              "    <tr>\n",
              "      <th>...</th>\n",
              "      <td>...</td>\n",
              "      <td>...</td>\n",
              "    </tr>\n",
              "    <tr>\n",
              "      <th>1131</th>\n",
              "      <td>ЮРИОН</td>\n",
              "      <td>4</td>\n",
              "    </tr>\n",
              "    <tr>\n",
              "      <th>1132</th>\n",
              "      <td>ЮТИП Технологии</td>\n",
              "      <td>4</td>\n",
              "    </tr>\n",
              "    <tr>\n",
              "      <th>1133</th>\n",
              "      <td>ЯКласс</td>\n",
              "      <td>4</td>\n",
              "    </tr>\n",
              "    <tr>\n",
              "      <th>1134</th>\n",
              "      <td>ЯрНео</td>\n",
              "      <td>4</td>\n",
              "    </tr>\n",
              "    <tr>\n",
              "      <th>1135</th>\n",
              "      <td>Яшин&amp;Партнёры</td>\n",
              "      <td>4</td>\n",
              "    </tr>\n",
              "  </tbody>\n",
              "</table>\n",
              "<p>1136 rows × 2 columns</p>\n",
              "</div>"
            ],
            "text/plain": [
              "        employer_name  industry_count\n",
              "0        101 Интернет               4\n",
              "1            21vek.by               4\n",
              "2                2ГИС               4\n",
              "3                  2К               4\n",
              "4         4 пикселя +               4\n",
              "...               ...             ...\n",
              "1131            ЮРИОН               4\n",
              "1132  ЮТИП Технологии               4\n",
              "1133           ЯКласс               4\n",
              "1134            ЯрНео               4\n",
              "1135    Яшин&Партнёры               4\n",
              "\n",
              "[1136 rows x 2 columns]"
            ]
          },
          "metadata": {},
          "output_type": "display_data"
        }
      ],
      "source": [
        "# Выполняем запрос и сохраняем результат в виде DataFrame\n",
        "df = pd.read_sql_query(query, connection)\n",
        "\n",
        "# Отображаем полученный результат\n",
        "display(df)"
      ]
    },
    {
      "cell_type": "markdown",
      "id": "3bfcfdaf-755d-4d2b-8ed8-326201dc07ab",
      "metadata": {
        "id": "3bfcfdaf-755d-4d2b-8ed8-326201dc07ab"
      },
      "source": [
        "6. С помощью запроса выясните, у какого количества работодателей в качестве сферы деятельности указана Разработка программного обеспечения.\n"
      ]
    },
    {
      "cell_type": "code",
      "execution_count": 35,
      "id": "ad3f270f-2991-47eb-929b-e8f88a55b0d1",
      "metadata": {
        "id": "ad3f270f-2991-47eb-929b-e8f88a55b0d1"
      },
      "outputs": [],
      "source": [
        "# SQL-запрос для подсчета количества работодателей в индустрии \"Разработка программного обеспечения\":\n",
        "# Соединяем таблицы employers, employers_industries и industries\n",
        "query = \"\"\"\n",
        "    SELECT\n",
        "        COUNT(e.id) AS employer_count -- Подсчет количества работодателей\n",
        "    FROM public.employers e\n",
        "    JOIN public.employers_industries i\n",
        "        ON e.id = i.employer_id      -- Соединение по идентификатору работодателя\n",
        "    JOIN public.industries d\n",
        "        ON i.industry_id = d.id      -- Соединение по идентификатору индустрии\n",
        "    WHERE d.name = 'Разработка программного обеспечения' -- Фильтр по названию индустрии\n",
        "\"\"\""
      ]
    },
    {
      "cell_type": "code",
      "execution_count": 36,
      "id": "H72qxWM0shPR",
      "metadata": {
        "id": "H72qxWM0shPR"
      },
      "outputs": [
        {
          "data": {
            "text/html": [
              "<div>\n",
              "<style scoped>\n",
              "    .dataframe tbody tr th:only-of-type {\n",
              "        vertical-align: middle;\n",
              "    }\n",
              "\n",
              "    .dataframe tbody tr th {\n",
              "        vertical-align: top;\n",
              "    }\n",
              "\n",
              "    .dataframe thead th {\n",
              "        text-align: right;\n",
              "    }\n",
              "</style>\n",
              "<table border=\"1\" class=\"dataframe\">\n",
              "  <thead>\n",
              "    <tr style=\"text-align: right;\">\n",
              "      <th></th>\n",
              "      <th>employer_count</th>\n",
              "    </tr>\n",
              "  </thead>\n",
              "  <tbody>\n",
              "    <tr>\n",
              "      <th>0</th>\n",
              "      <td>3553</td>\n",
              "    </tr>\n",
              "  </tbody>\n",
              "</table>\n",
              "</div>"
            ],
            "text/plain": [
              "   employer_count\n",
              "0            3553"
            ]
          },
          "metadata": {},
          "output_type": "display_data"
        }
      ],
      "source": [
        "# Выполняем запрос и сохраняем результат в виде DataFrame\n",
        "df = pd.read_sql_query(query, connection)\n",
        "\n",
        "# Отображаем полученный результат\n",
        "display(df)"
      ]
    },
    {
      "cell_type": "markdown",
      "id": "7b02bb86-0546-40fb-94a4-242f050a5c57",
      "metadata": {
        "id": "7b02bb86-0546-40fb-94a4-242f050a5c57"
      },
      "source": [
        "7. Для компании «Яндекс» выведите список регионов-миллионников, в которых представлены вакансии компании, вместе с количеством вакансий в этих регионах. Также добавьте строку Total с общим количеством вакансий компании. Результат отсортируйте по возрастанию количества.\n",
        "\n",
        "Список городов-милионников надо взять [отсюда](https://ru.wikipedia.org/wiki/%D0%93%D0%BE%D1%80%D0%BE%D0%B4%D0%B0-%D0%BC%D0%B8%D0%BB%D0%BB%D0%B8%D0%BE%D0%BD%D0%B5%D1%80%D1%8B_%D0%A0%D0%BE%D1%81%D1%81%D0%B8%D0%B8). \n",
        "\n",
        "Если возникнут трудности с этим задание посмотрите материалы модуля  PYTHON-17. Как получать данные из веб-источников и API. "
      ]
    },
    {
      "cell_type": "code",
      "execution_count": 37,
      "id": "ZdfrL6gIs1Pn",
      "metadata": {
        "id": "ZdfrL6gIs1Pn"
      },
      "outputs": [],
      "source": [
        "import requests\n",
        "from bs4 import BeautifulSoup\n",
        "\n",
        "# Получение списка городов из Википедии\n",
        "def get_city_list():\n",
        "    url = \"https://ru.wikipedia.org/wiki/Города-миллионеры_России\"\n",
        "    headers = {\"User-Agent\": \"Mozilla/5.0\"}\n",
        "    response = requests.get(url, headers=headers)\n",
        "    soup = BeautifulSoup(response.text, \"html.parser\")\n",
        "    table = soup.find(\"table\", {\"class\": \"standard sortable\"})\n",
        "\n",
        "    cities = []\n",
        "    if table:\n",
        "        rows = table.find_all(\"tr\")[1:]  # Пропускаем заголовок\n",
        "        for row in rows:\n",
        "            columns = row.find_all(\"td\")\n",
        "            if columns:\n",
        "                city_name = columns[1].get_text(strip=True)\n",
        "                cities.append(city_name)\n",
        "    return cities"
      ]
    },
    {
      "cell_type": "code",
      "execution_count": 38,
      "id": "5a0e32a4-e68a-4365-8a39-2fe24c542c36",
      "metadata": {
        "id": "5a0e32a4-e68a-4365-8a39-2fe24c542c36"
      },
      "outputs": [],
      "source": [
        "# Формирование SQL-запроса\n",
        "cities = get_city_list()\n",
        "city_list_str = \", \".join([f\"'{city}'\" for city in cities])\n",
        "\n",
        "query = f\"\"\"\n",
        "WITH city_list AS (\n",
        "    SELECT UNNEST(ARRAY[{city_list_str}]) AS city\n",
        ")\n",
        "SELECT\n",
        "    a.name AS city,\n",
        "    COUNT(v.id) AS vacancy_count\n",
        "FROM public.vacancies v\n",
        "JOIN public.employers e\n",
        "    ON v.employer_id = e.id\n",
        "JOIN public.areas a\n",
        "    ON v.area_id = a.id\n",
        "WHERE e.name = 'Яндекс'\n",
        "  AND a.name IN (SELECT city FROM city_list)\n",
        "GROUP BY a.name\n",
        "\n",
        "UNION ALL\n",
        "\n",
        "SELECT\n",
        "    'Total' AS city,\n",
        "    COUNT(v.id) AS vacancy_count\n",
        "FROM public.vacancies v\n",
        "JOIN public.employers e\n",
        "    ON v.employer_id = e.id\n",
        "JOIN public.areas a\n",
        "    ON v.area_id = a.id\n",
        "WHERE e.name = 'Яндекс'\n",
        "  AND a.name IN (SELECT city FROM city_list)\n",
        "\n",
        "ORDER BY vacancy_count ASC;\n",
        "\"\"\""
      ]
    },
    {
      "cell_type": "code",
      "execution_count": 39,
      "id": "ttPhiO1rsvPq",
      "metadata": {
        "id": "ttPhiO1rsvPq"
      },
      "outputs": [
        {
          "data": {
            "text/html": [
              "<div>\n",
              "<style scoped>\n",
              "    .dataframe tbody tr th:only-of-type {\n",
              "        vertical-align: middle;\n",
              "    }\n",
              "\n",
              "    .dataframe tbody tr th {\n",
              "        vertical-align: top;\n",
              "    }\n",
              "\n",
              "    .dataframe thead th {\n",
              "        text-align: right;\n",
              "    }\n",
              "</style>\n",
              "<table border=\"1\" class=\"dataframe\">\n",
              "  <thead>\n",
              "    <tr style=\"text-align: right;\">\n",
              "      <th></th>\n",
              "      <th>city</th>\n",
              "      <th>vacancy_count</th>\n",
              "    </tr>\n",
              "  </thead>\n",
              "  <tbody>\n",
              "    <tr>\n",
              "      <th>0</th>\n",
              "      <td>Омск</td>\n",
              "      <td>21</td>\n",
              "    </tr>\n",
              "    <tr>\n",
              "      <th>1</th>\n",
              "      <td>Челябинск</td>\n",
              "      <td>22</td>\n",
              "    </tr>\n",
              "    <tr>\n",
              "      <th>2</th>\n",
              "      <td>Красноярск</td>\n",
              "      <td>23</td>\n",
              "    </tr>\n",
              "    <tr>\n",
              "      <th>3</th>\n",
              "      <td>Волгоград</td>\n",
              "      <td>24</td>\n",
              "    </tr>\n",
              "    <tr>\n",
              "      <th>4</th>\n",
              "      <td>Пермь</td>\n",
              "      <td>25</td>\n",
              "    </tr>\n",
              "    <tr>\n",
              "      <th>5</th>\n",
              "      <td>Казань</td>\n",
              "      <td>25</td>\n",
              "    </tr>\n",
              "    <tr>\n",
              "      <th>6</th>\n",
              "      <td>Ростов-на-Дону</td>\n",
              "      <td>25</td>\n",
              "    </tr>\n",
              "    <tr>\n",
              "      <th>7</th>\n",
              "      <td>Самара</td>\n",
              "      <td>26</td>\n",
              "    </tr>\n",
              "    <tr>\n",
              "      <th>8</th>\n",
              "      <td>Уфа</td>\n",
              "      <td>26</td>\n",
              "    </tr>\n",
              "    <tr>\n",
              "      <th>9</th>\n",
              "      <td>Краснодар</td>\n",
              "      <td>30</td>\n",
              "    </tr>\n",
              "    <tr>\n",
              "      <th>10</th>\n",
              "      <td>Воронеж</td>\n",
              "      <td>32</td>\n",
              "    </tr>\n",
              "    <tr>\n",
              "      <th>11</th>\n",
              "      <td>Новосибирск</td>\n",
              "      <td>35</td>\n",
              "    </tr>\n",
              "    <tr>\n",
              "      <th>12</th>\n",
              "      <td>Нижний Новгород</td>\n",
              "      <td>36</td>\n",
              "    </tr>\n",
              "    <tr>\n",
              "      <th>13</th>\n",
              "      <td>Екатеринбург</td>\n",
              "      <td>39</td>\n",
              "    </tr>\n",
              "    <tr>\n",
              "      <th>14</th>\n",
              "      <td>Санкт-Петербург</td>\n",
              "      <td>42</td>\n",
              "    </tr>\n",
              "    <tr>\n",
              "      <th>15</th>\n",
              "      <td>Москва</td>\n",
              "      <td>54</td>\n",
              "    </tr>\n",
              "    <tr>\n",
              "      <th>16</th>\n",
              "      <td>Total</td>\n",
              "      <td>485</td>\n",
              "    </tr>\n",
              "  </tbody>\n",
              "</table>\n",
              "</div>"
            ],
            "text/plain": [
              "               city  vacancy_count\n",
              "0              Омск             21\n",
              "1         Челябинск             22\n",
              "2        Красноярск             23\n",
              "3         Волгоград             24\n",
              "4             Пермь             25\n",
              "5            Казань             25\n",
              "6    Ростов-на-Дону             25\n",
              "7            Самара             26\n",
              "8               Уфа             26\n",
              "9         Краснодар             30\n",
              "10          Воронеж             32\n",
              "11      Новосибирск             35\n",
              "12  Нижний Новгород             36\n",
              "13     Екатеринбург             39\n",
              "14  Санкт-Петербург             42\n",
              "15           Москва             54\n",
              "16            Total            485"
            ]
          },
          "metadata": {},
          "output_type": "display_data"
        }
      ],
      "source": [
        "# Выполняем запрос и сохраняем результат в виде DataFrame\n",
        "df = pd.read_sql_query(query, connection)\n",
        "\n",
        "# Отображаем полученный результат\n",
        "display(df)"
      ]
    },
    {
      "cell_type": "markdown",
      "id": "04966e40-3bc3-4dc8-9ba2-e80580ce3abc",
      "metadata": {
        "id": "04966e40-3bc3-4dc8-9ba2-e80580ce3abc"
      },
      "source": [
        "***"
      ]
    },
    {
      "cell_type": "markdown",
      "id": "aGGyER-yt4SR",
      "metadata": {
        "id": "aGGyER-yt4SR"
      },
      "source": [
        "# Подробный анализ данных вакансий\n",
        "\n",
        "## 1. Топ работодателей по количеству вакансий\n",
        "\n",
        "### Результаты:\n",
        "1. **Яндекс** — 1933 вакансии.\n",
        "2. **Ростелеком** — 491 вакансия.\n",
        "3. **Тинькофф** — 444 вакансии.\n",
        "4. **СБЕР** — 428 вакансий.\n",
        "5. **Газпром нефть** — 331 вакансия.\n",
        "\n",
        "### Выводы:\n",
        "- **Яндекс** уверенно лидирует, демонстрируя стратегию масштабного найма и усиления своих позиций в ключевых направлениях (IT, аналитика, маркетинг).\n",
        "- Рост компаний **Ростелеком** и **Тинькофф** может свидетельствовать о масштабных цифровых трансформациях.\n",
        "- Компании, такие как **СБЕР** и **Газпром нефть**, адаптируются к новым рыночным вызовам, создавая вакансии в области финтеха и инновационной энергетики.\n",
        "\n",
        "---\n",
        "\n",
        "## 2. Регионы с работодателями, но без активных вакансий\n",
        "\n",
        "### Результаты:\n",
        "1. **Россия** — 410 работодателей.\n",
        "2. **Казахстан** — 207 работодателей.\n",
        "3. **Московская область** — 75 работодателей.\n",
        "\n",
        "### Выводы:\n",
        "- Большое количество работодателей без активных вакансий может говорить о низкой активности рынка труда в этих регионах.\n",
        "- Для **России** это может означать, что работодатели сосредоточены на поддержании текущего штата.\n",
        "- **Казахстан**, на втором месте, вероятно, находится на этапе экономического перехода или сталкивается с трудностями в поиске кадров.\n",
        "\n",
        "---\n",
        "\n",
        "## 3. Уникальные регионы размещения вакансий работодателей\n",
        "\n",
        "### Результаты:\n",
        "1. **Яндекс** — 181 регион.\n",
        "2. **Ростелеком** — 152 региона.\n",
        "3. **Спецмонтаж** — 116 регионов.\n",
        "\n",
        "### Выводы:\n",
        "- Широкий географический охват **Яндекса** подтверждает его стратегию охвата как крупных городов, так и удаленных регионов, включая удаленный найм.\n",
        "- **Ростелеком** демонстрирует высокую активность благодаря телекоммуникационным проектам.\n",
        "- Компании, такие как **Спецмонтаж**, ориентируются на строительство и инфраструктуру в регионах.\n",
        "\n",
        "---\n",
        "\n",
        "## 4. Работодатели без указанной сферы деятельности\n",
        "\n",
        "### Результат:\n",
        "- 8419 работодателей не указали сферу деятельности.\n",
        "\n",
        "### Выводы:\n",
        "- Большое количество работодателей без привязки к индустрии говорит о проблемах с классификацией данных, что затрудняет их анализ.\n",
        "- Вероятно, это компании малого и среднего бизнеса или индивидуальные предприниматели, которые не считают нужным указывать свою специализацию.\n",
        "\n",
        "---\n",
        "\n",
        "## 5. Компании с четырьмя сферами деятельности\n",
        "\n",
        "### Результат:\n",
        "- Третьей компанией по алфавиту является **2ГИС**.\n",
        "\n",
        "### Выводы:\n",
        "- Компании с несколькими сферами деятельности, как **2ГИС**, демонстрируют устойчивость, гибкость и способность диверсифицировать свои бизнес-направления.\n",
        "- Такие компании часто работают на стыке IT, рекламы и аналитики.\n",
        "\n",
        "---\n",
        "\n",
        "## 6. Разработка программного обеспечения\n",
        "\n",
        "### Результат:\n",
        "- 3553 работодателя указали эту сферу деятельности.\n",
        "\n",
        "### Выводы:\n",
        "- **Разработка ПО** остается ключевой отраслью, обеспечивающей значительный спрос на специалистов.\n",
        "- Это подчеркивает рост цифровой трансформации во всех секторах экономики.\n",
        "\n",
        "---\n",
        "\n",
        "## 7. Анализ вакансий Яндекса в городах-миллионниках\n",
        "\n",
        "### Результаты:\n",
        "1. **Москва** — 54 вакансии.\n",
        "2. **Санкт-Петербург** — 39 вакансий.\n",
        "3. **Екатеринбург** — 36 вакансий.\n",
        "4. **Новосибирск** — 35 вакансий.\n",
        "5. **Казань** — 25 вакансий.\n",
        "\n",
        "### Выводы:\n",
        "- **Москва** и **Санкт-Петербург** продолжают лидировать как центры экономической активности и инноваций.\n",
        "- Растущая активность в городах, таких как **Новосибирск** и **Казань**, указывает на их значимость в развитии регионального бизнеса и инноваций.\n",
        "\n",
        "---\n",
        "\n",
        "## Общие выводы\n",
        "\n",
        "### 1. Рынок вакансий:\n",
        "- Крупные компании, такие как **Яндекс**, **Ростелеком** и **Тинькофф**, активно формируют рынок труда, предлагая широкий спектр вакансий.\n",
        "- Географический охват работодателей демонстрирует потенциал развития удаленной работы и региональной экспансии.\n",
        "\n",
        "### 2. Сферы деятельности:\n",
        "- Разработка программного обеспечения сохраняет ключевую роль на рынке, поддерживая высокий спрос на IT-специалистов.\n",
        "- Компании с несколькими сферами деятельности демонстрируют гибкость и адаптацию к изменениям рынка.\n",
        "\n",
        "### 3. Регионы:\n",
        "- Москва и Санкт-Петербург остаются ключевыми центрами, но внимание работодателей к региональным городам растет.\n",
        "- Большое число работодателей без вакансий подчеркивает необходимость улучшения классификации данных и стимулирования активности на рынке труда."
      ]
    },
    {
      "cell_type": "markdown",
      "id": "b1ef156a-efcb-49ce-bb23-90763e7f35b2",
      "metadata": {
        "id": "b1ef156a-efcb-49ce-bb23-90763e7f35b2",
        "tags": []
      },
      "source": [
        "# Юнит 6. Предметный анализ"
      ]
    },
    {
      "cell_type": "markdown",
      "id": "b9cd50a0-992d-4988-8463-2b2b1c4629b4",
      "metadata": {
        "id": "b9cd50a0-992d-4988-8463-2b2b1c4629b4"
      },
      "source": [
        "1. Сколько вакансий имеет отношение к данным?\n",
        "\n",
        "Считаем, что вакансия имеет отношение к данным, если в её названии содержатся слова 'data' или 'данн'.\n",
        "\n",
        "*Подсказка: Обратите внимание, что названия вакансий могут быть написаны в любом регистре.* \n"
      ]
    },
    {
      "cell_type": "code",
      "execution_count": 40,
      "id": "54ab0e50-c0f1-47cc-a54b-bc5c8bc363f9",
      "metadata": {
        "id": "54ab0e50-c0f1-47cc-a54b-bc5c8bc363f9"
      },
      "outputs": [],
      "source": [
        "# SQL-запрос для подсчета количества вакансий, связанных с данными:\n",
        "# Фильтруем вакансии, название которых содержит 'data' или 'данн'\n",
        "query = \"\"\"\n",
        "    SELECT\n",
        "        COUNT(name) AS vacancy_count -- Подсчет количества подходящих вакансий\n",
        "    FROM public.vacancies\n",
        "    WHERE name ILIKE '%data%' OR name ILIKE '%данн%' -- Фильтр по названиям вакансий\n",
        "\"\"\"\n"
      ]
    },
    {
      "cell_type": "code",
      "execution_count": 41,
      "id": "9F1meAqsuUjd",
      "metadata": {
        "id": "9F1meAqsuUjd"
      },
      "outputs": [
        {
          "data": {
            "text/html": [
              "<div>\n",
              "<style scoped>\n",
              "    .dataframe tbody tr th:only-of-type {\n",
              "        vertical-align: middle;\n",
              "    }\n",
              "\n",
              "    .dataframe tbody tr th {\n",
              "        vertical-align: top;\n",
              "    }\n",
              "\n",
              "    .dataframe thead th {\n",
              "        text-align: right;\n",
              "    }\n",
              "</style>\n",
              "<table border=\"1\" class=\"dataframe\">\n",
              "  <thead>\n",
              "    <tr style=\"text-align: right;\">\n",
              "      <th></th>\n",
              "      <th>vacancy_count</th>\n",
              "    </tr>\n",
              "  </thead>\n",
              "  <tbody>\n",
              "    <tr>\n",
              "      <th>0</th>\n",
              "      <td>1771</td>\n",
              "    </tr>\n",
              "  </tbody>\n",
              "</table>\n",
              "</div>"
            ],
            "text/plain": [
              "   vacancy_count\n",
              "0           1771"
            ]
          },
          "metadata": {},
          "output_type": "display_data"
        }
      ],
      "source": [
        "# Выполняем запрос и сохраняем результат в виде DataFrame\n",
        "df = pd.read_sql_query(query, connection)\n",
        "\n",
        "# Отображаем полученный результат\n",
        "display(df)"
      ]
    },
    {
      "cell_type": "markdown",
      "id": "4dea20cb-a36b-474a-a0b9-e08e8e3857a5",
      "metadata": {
        "id": "4dea20cb-a36b-474a-a0b9-e08e8e3857a5"
      },
      "source": [
        "2. Сколько есть подходящих вакансий для начинающего дата-сайентиста? \n",
        "Будем считать вакансиями для дата-сайентистов такие, в названии которых есть хотя бы одно из следующих сочетаний:\n",
        "* 'data scientist'\n",
        "* 'data science'\n",
        "* 'исследователь данных'\n",
        "* 'ML' (здесь не нужно брать вакансии по HTML)\n",
        "* 'machine learning'\n",
        "* 'машинн%обучен%'\n",
        "\n",
        "** В следующих заданиях мы продолжим работать с вакансиями по этому условию.*\n",
        "\n",
        "Считаем вакансиями для специалистов уровня Junior следующие:\n",
        "* в названии есть слово 'junior' *или*\n",
        "* требуемый опыт — Нет опыта *или*\n",
        "* тип трудоустройства — Стажировка.\n",
        " "
      ]
    },
    {
      "cell_type": "code",
      "execution_count": 42,
      "id": "9c61b3c0-bb66-46c9-ae1e-81d3f5752b4a",
      "metadata": {
        "id": "9c61b3c0-bb66-46c9-ae1e-81d3f5752b4a"
      },
      "outputs": [],
      "source": [
        "# SQL-запрос для подсчета количества вакансий по Data Science и Machine Learning на уровне Junior или стажировки\n",
        "query = \"\"\"\n",
        "    SELECT\n",
        "        COUNT(name) AS vacancy_count -- Подсчет количества подходящих вакансий\n",
        "    FROM public.vacancies\n",
        "    WHERE\n",
        "        (\n",
        "            name ILIKE '%data scientist%' OR\n",
        "            name ILIKE '%data science%' OR\n",
        "            name ILIKE '%исследователь данных%' OR\n",
        "            (name ILIKE '%ML%' AND name NOT ILIKE '%HTML%') OR\n",
        "            name ILIKE '%machine learning%' OR\n",
        "            name ILIKE '%машинн%обучен%'\n",
        "        )\n",
        "        AND\n",
        "        (\n",
        "            name ILIKE '%junior%' OR\n",
        "            experience ILIKE '%Нет опыта%' OR\n",
        "            employment ILIKE '%Стажировка%'\n",
        "        )\n",
        "\"\"\""
      ]
    },
    {
      "cell_type": "code",
      "execution_count": 43,
      "id": "ZNM-LLYuu1dj",
      "metadata": {
        "id": "ZNM-LLYuu1dj"
      },
      "outputs": [
        {
          "data": {
            "text/html": [
              "<div>\n",
              "<style scoped>\n",
              "    .dataframe tbody tr th:only-of-type {\n",
              "        vertical-align: middle;\n",
              "    }\n",
              "\n",
              "    .dataframe tbody tr th {\n",
              "        vertical-align: top;\n",
              "    }\n",
              "\n",
              "    .dataframe thead th {\n",
              "        text-align: right;\n",
              "    }\n",
              "</style>\n",
              "<table border=\"1\" class=\"dataframe\">\n",
              "  <thead>\n",
              "    <tr style=\"text-align: right;\">\n",
              "      <th></th>\n",
              "      <th>vacancy_count</th>\n",
              "    </tr>\n",
              "  </thead>\n",
              "  <tbody>\n",
              "    <tr>\n",
              "      <th>0</th>\n",
              "      <td>51</td>\n",
              "    </tr>\n",
              "  </tbody>\n",
              "</table>\n",
              "</div>"
            ],
            "text/plain": [
              "   vacancy_count\n",
              "0             51"
            ]
          },
          "metadata": {},
          "output_type": "display_data"
        }
      ],
      "source": [
        "# Выполняем запрос и сохраняем результат в виде DataFrame\n",
        "df = pd.read_sql_query(query, connection)\n",
        "\n",
        "# Отображаем полученный результат\n",
        "display(df)# результат запроса"
      ]
    },
    {
      "cell_type": "markdown",
      "id": "eedceb80-c5ca-480e-b27a-278dfb8b4438",
      "metadata": {
        "id": "eedceb80-c5ca-480e-b27a-278dfb8b4438"
      },
      "source": [
        "3. Сколько есть вакансий для DS, в которых в качестве ключевого навыка указан SQL или postgres?\n",
        "\n",
        "** Критерии для отнесения вакансии к DS указаны в предыдущем задании.*"
      ]
    },
    {
      "cell_type": "code",
      "execution_count": 44,
      "id": "69621713-0cc5-4f1b-a1d7-bb144fa6148c",
      "metadata": {
        "id": "69621713-0cc5-4f1b-a1d7-bb144fa6148c"
      },
      "outputs": [],
      "source": [
        "# SQL-запрос для подсчета количества вакансий по Data Science и Machine Learning с ключевыми навыками SQL или PostgreSQL\n",
        "query = \"\"\"\n",
        "    SELECT\n",
        "        COUNT(name) AS vacancy_count -- Подсчет количества подходящих вакансий\n",
        "    FROM public.vacancies\n",
        "    WHERE\n",
        "        (\n",
        "            name ILIKE '%data scientist%' OR\n",
        "            name ILIKE '%data science%' OR\n",
        "            name ILIKE '%исследователь данных%' OR\n",
        "            (name ILIKE '%ML%' AND name NOT ILIKE '%HTML%') OR\n",
        "            name ILIKE '%machine learning%' OR\n",
        "            name ILIKE '%машинн%обучен%'\n",
        "        )\n",
        "        AND\n",
        "        (\n",
        "            key_skills ILIKE '%SQL%' OR\n",
        "            key_skills ILIKE '%postgres%'\n",
        "        )\n",
        "\"\"\""
      ]
    },
    {
      "cell_type": "code",
      "execution_count": 45,
      "id": "alA8WEAAvGdf",
      "metadata": {
        "id": "alA8WEAAvGdf"
      },
      "outputs": [
        {
          "data": {
            "text/html": [
              "<div>\n",
              "<style scoped>\n",
              "    .dataframe tbody tr th:only-of-type {\n",
              "        vertical-align: middle;\n",
              "    }\n",
              "\n",
              "    .dataframe tbody tr th {\n",
              "        vertical-align: top;\n",
              "    }\n",
              "\n",
              "    .dataframe thead th {\n",
              "        text-align: right;\n",
              "    }\n",
              "</style>\n",
              "<table border=\"1\" class=\"dataframe\">\n",
              "  <thead>\n",
              "    <tr style=\"text-align: right;\">\n",
              "      <th></th>\n",
              "      <th>vacancy_count</th>\n",
              "    </tr>\n",
              "  </thead>\n",
              "  <tbody>\n",
              "    <tr>\n",
              "      <th>0</th>\n",
              "      <td>229</td>\n",
              "    </tr>\n",
              "  </tbody>\n",
              "</table>\n",
              "</div>"
            ],
            "text/plain": [
              "   vacancy_count\n",
              "0            229"
            ]
          },
          "metadata": {},
          "output_type": "display_data"
        }
      ],
      "source": [
        "\n",
        "# Выполняем запрос и сохраняем результат в виде DataFrame\n",
        "df = pd.read_sql_query(query, connection)\n",
        "\n",
        "# Отображаем полученный результат\n",
        "display(df)"
      ]
    },
    {
      "cell_type": "markdown",
      "id": "1be1e9c6-37cf-4a5f-bfeb-04cab799dc80",
      "metadata": {
        "id": "1be1e9c6-37cf-4a5f-bfeb-04cab799dc80"
      },
      "source": [
        "4. Проверьте, насколько популярен Python в требованиях работодателей к DS.Для этого вычислите количество вакансий, в которых в качестве ключевого навыка указан Python.\n",
        "\n",
        "** Это можно сделать помощью запроса, аналогичного предыдущему.*"
      ]
    },
    {
      "cell_type": "code",
      "execution_count": 46,
      "id": "0036a355-9ccf-4564-8b01-73d8194297e7",
      "metadata": {
        "id": "0036a355-9ccf-4564-8b01-73d8194297e7"
      },
      "outputs": [],
      "source": [
        "# SQL-запрос для подсчета количества вакансий по Data Science и Machine Learning с ключевым навыком Python\n",
        "query = \"\"\"\n",
        "    SELECT\n",
        "        COUNT(name) AS vacancy_count -- Подсчет количества подходящих вакансий\n",
        "    FROM public.vacancies\n",
        "    WHERE\n",
        "        (\n",
        "            name ILIKE '%data scientist%' OR\n",
        "            name ILIKE '%data science%' OR\n",
        "            name ILIKE '%исследователь данных%' OR\n",
        "            (name ILIKE '%ML%' AND name NOT ILIKE '%HTML%') OR\n",
        "            name ILIKE '%machine learning%' OR\n",
        "            name ILIKE '%машинн%обучен%'\n",
        "        )\n",
        "        AND\n",
        "        key_skills ILIKE '%python%' -- Проверяем, что Python указан в ключевых навыках\n",
        "\"\"\""
      ]
    },
    {
      "cell_type": "code",
      "execution_count": 47,
      "id": "1i-5WyucvQ6v",
      "metadata": {
        "id": "1i-5WyucvQ6v"
      },
      "outputs": [
        {
          "data": {
            "text/html": [
              "<div>\n",
              "<style scoped>\n",
              "    .dataframe tbody tr th:only-of-type {\n",
              "        vertical-align: middle;\n",
              "    }\n",
              "\n",
              "    .dataframe tbody tr th {\n",
              "        vertical-align: top;\n",
              "    }\n",
              "\n",
              "    .dataframe thead th {\n",
              "        text-align: right;\n",
              "    }\n",
              "</style>\n",
              "<table border=\"1\" class=\"dataframe\">\n",
              "  <thead>\n",
              "    <tr style=\"text-align: right;\">\n",
              "      <th></th>\n",
              "      <th>vacancy_count</th>\n",
              "    </tr>\n",
              "  </thead>\n",
              "  <tbody>\n",
              "    <tr>\n",
              "      <th>0</th>\n",
              "      <td>357</td>\n",
              "    </tr>\n",
              "  </tbody>\n",
              "</table>\n",
              "</div>"
            ],
            "text/plain": [
              "   vacancy_count\n",
              "0            357"
            ]
          },
          "metadata": {},
          "output_type": "display_data"
        }
      ],
      "source": [
        "# Выполняем запрос и сохраняем результат в виде DataFrame\n",
        "df = pd.read_sql_query(query, connection)\n",
        "\n",
        "# Отображаем полученный результат\n",
        "display(df)"
      ]
    },
    {
      "cell_type": "markdown",
      "id": "ec3c8db7-fa21-4a41-a994-1af63742a642",
      "metadata": {
        "id": "ec3c8db7-fa21-4a41-a994-1af63742a642"
      },
      "source": [
        "5. Сколько ключевых навыков в среднем указывают в вакансиях для DS?\n",
        "Ответ округлите до двух знаков после точки-разделителя."
      ]
    },
    {
      "cell_type": "code",
      "execution_count": 48,
      "id": "949132bc-d5b6-4611-8218-0b9a504d74f4",
      "metadata": {
        "id": "949132bc-d5b6-4611-8218-0b9a504d74f4"
      },
      "outputs": [],
      "source": [
        "# SQL-запрос для подсчета среднего количества ключевых навыков в вакансиях, связанных с Data Science и Machine Learning\n",
        "query = \"\"\"\n",
        "    SELECT\n",
        "        ROUND(\n",
        "            AVG(\n",
        "                LENGTH(key_skills) - LENGTH(REPLACE(key_skills, CHR(9), '')) + 1\n",
        "            ), 2\n",
        "        ) AS avg_key_skills -- Среднее количество ключевых навыков, округленное до 2 знаков\n",
        "    FROM public.vacancies\n",
        "    WHERE\n",
        "        (\n",
        "            name ILIKE '%data scientist%' OR\n",
        "            name ILIKE '%data science%' OR\n",
        "            name ILIKE '%исследователь данных%' OR\n",
        "            (name LIKE '%ML%' AND name NOT ILIKE '%HTML%') OR\n",
        "            name ILIKE '%machine learning%' OR\n",
        "            name ILIKE '%машинн%обучен%'\n",
        "        )\n",
        "        AND key_skills IS NOT NULL -- Исключаем вакансии без указанных ключевых навыков\n",
        "        AND key_skills <> '';      -- Исключаем вакансии с пустыми ключевыми навыками\n",
        "\"\"\""
      ]
    },
    {
      "cell_type": "code",
      "execution_count": 49,
      "id": "a3V24Tvmviqk",
      "metadata": {
        "id": "a3V24Tvmviqk"
      },
      "outputs": [
        {
          "data": {
            "text/html": [
              "<div>\n",
              "<style scoped>\n",
              "    .dataframe tbody tr th:only-of-type {\n",
              "        vertical-align: middle;\n",
              "    }\n",
              "\n",
              "    .dataframe tbody tr th {\n",
              "        vertical-align: top;\n",
              "    }\n",
              "\n",
              "    .dataframe thead th {\n",
              "        text-align: right;\n",
              "    }\n",
              "</style>\n",
              "<table border=\"1\" class=\"dataframe\">\n",
              "  <thead>\n",
              "    <tr style=\"text-align: right;\">\n",
              "      <th></th>\n",
              "      <th>avg_key_skills</th>\n",
              "    </tr>\n",
              "  </thead>\n",
              "  <tbody>\n",
              "    <tr>\n",
              "      <th>0</th>\n",
              "      <td>6.41</td>\n",
              "    </tr>\n",
              "  </tbody>\n",
              "</table>\n",
              "</div>"
            ],
            "text/plain": [
              "   avg_key_skills\n",
              "0            6.41"
            ]
          },
          "metadata": {},
          "output_type": "display_data"
        }
      ],
      "source": [
        "# Выполняем запрос и сохраняем результат в виде DataFrame\n",
        "df = pd.read_sql_query(query, connection)\n",
        "\n",
        "# Отображаем результат\n",
        "display(df)"
      ]
    },
    {
      "cell_type": "markdown",
      "id": "1041c17a-ca8f-4543-a0ca-32778914fb00",
      "metadata": {
        "id": "1041c17a-ca8f-4543-a0ca-32778914fb00"
      },
      "source": [
        "6. Напишите запрос, позволяющий вычислить, какую зарплату для DS в **среднем** указывают для каждого типа требуемого опыта (уникальное значение из поля *experience*). \n",
        "\n",
        "При решении задачи примите во внимание следующее:\n",
        "1. Рассматриваем только вакансии, у которых заполнено хотя бы одно из двух полей с зарплатой.\n",
        "2. Если заполнены оба поля с зарплатой, то считаем зарплату по каждой вакансии как сумму двух полей, делённую на 2. Если заполнено только одно из полей, то его и считаем зарплатой по вакансии.\n",
        "3. Если в расчётах участвует null, в результате он тоже даст null (посмотрите, что возвращает запрос select 1 + null). Чтобы избежать этой ситуацию, мы воспользуемся функцией [coalesce](https://postgrespro.ru/docs/postgresql/9.5/functions-conditional#functions-coalesce-nvl-ifnull), которая заменит null на значение, которое мы передадим. Например, посмотрите, что возвращает запрос `select 1 + coalesce(null, 0)`\n",
        "\n",
        "Выясните, на какую зарплату в среднем может рассчитывать дата-сайентист с опытом работы от 3 до 6 лет. Результат округлите до целого числа. "
      ]
    },
    {
      "cell_type": "code",
      "execution_count": 50,
      "id": "6a743d39-5204-48d3-8271-b9f88e68d40e",
      "metadata": {
        "id": "6a743d39-5204-48d3-8271-b9f88e68d40e"
      },
      "outputs": [],
      "source": [
        "# SQL-запрос для расчета средней зарплаты по опыту для вакансий Data Science и Machine Learning\n",
        "query = \"\"\"\n",
        "    SELECT\n",
        "        experience, -- Уровень опыта (например, \"Нет опыта\", \"От 1 года\")\n",
        "        ROUND(AVG(\n",
        "            CASE\n",
        "                WHEN salary_from IS NOT NULL AND salary_to IS NOT NULL THEN (salary_from + salary_to) / 2\n",
        "                ELSE COALESCE(salary_from, salary_to) -- Используем либо salary_from, либо salary_to\n",
        "            END\n",
        "        ), 2) AS avg_salary -- Средняя зарплата, округленная до 2 знаков\n",
        "    FROM public.vacancies\n",
        "    WHERE\n",
        "        (\n",
        "            name ILIKE '%data scientist%' OR\n",
        "            name ILIKE '%data science%' OR\n",
        "            name ILIKE '%исследователь данных%' OR\n",
        "            (name LIKE '%ML%' AND name NOT ILIKE '%HTML%') OR\n",
        "            name ILIKE '%machine learning%' OR\n",
        "            name ILIKE '%машинн%обучен%'\n",
        "        )\n",
        "        AND (salary_from IS NOT NULL OR salary_to IS NOT NULL) -- Исключаем вакансии без указанных зарплат\n",
        "    GROUP BY experience -- Группируем результаты по опыту\n",
        "    ORDER BY experience -- Сортируем по уровню опыта\n",
        "\"\"\""
      ]
    },
    {
      "cell_type": "code",
      "execution_count": 51,
      "id": "aRIJ0mZEwU1_",
      "metadata": {
        "id": "aRIJ0mZEwU1_"
      },
      "outputs": [
        {
          "data": {
            "text/html": [
              "<div>\n",
              "<style scoped>\n",
              "    .dataframe tbody tr th:only-of-type {\n",
              "        vertical-align: middle;\n",
              "    }\n",
              "\n",
              "    .dataframe tbody tr th {\n",
              "        vertical-align: top;\n",
              "    }\n",
              "\n",
              "    .dataframe thead th {\n",
              "        text-align: right;\n",
              "    }\n",
              "</style>\n",
              "<table border=\"1\" class=\"dataframe\">\n",
              "  <thead>\n",
              "    <tr style=\"text-align: right;\">\n",
              "      <th></th>\n",
              "      <th>experience</th>\n",
              "      <th>avg_salary</th>\n",
              "    </tr>\n",
              "  </thead>\n",
              "  <tbody>\n",
              "    <tr>\n",
              "      <th>0</th>\n",
              "      <td>Нет опыта</td>\n",
              "      <td>74642.86</td>\n",
              "    </tr>\n",
              "    <tr>\n",
              "      <th>1</th>\n",
              "      <td>От 1 года до 3 лет</td>\n",
              "      <td>139674.75</td>\n",
              "    </tr>\n",
              "    <tr>\n",
              "      <th>2</th>\n",
              "      <td>От 3 до 6 лет</td>\n",
              "      <td>243114.67</td>\n",
              "    </tr>\n",
              "  </tbody>\n",
              "</table>\n",
              "</div>"
            ],
            "text/plain": [
              "           experience  avg_salary\n",
              "0           Нет опыта    74642.86\n",
              "1  От 1 года до 3 лет   139674.75\n",
              "2       От 3 до 6 лет   243114.67"
            ]
          },
          "metadata": {},
          "output_type": "display_data"
        }
      ],
      "source": [
        "# Выполняем запрос и сохраняем результат в виде DataFrame\n",
        "df = pd.read_sql_query(query, connection)\n",
        "\n",
        "# Отображаем результат\n",
        "display(df)"
      ]
    },
    {
      "cell_type": "markdown",
      "id": "6a7892b4-4113-4746-adce-18aa2844f18e",
      "metadata": {
        "id": "6a7892b4-4113-4746-adce-18aa2844f18e"
      },
      "source": [
        "***"
      ]
    },
    {
      "cell_type": "markdown",
      "id": "UjLWUptVwY1o",
      "metadata": {
        "id": "UjLWUptVwY1o"
      },
      "source": [
        "# Анализ вакансий, связанных с данными и Data Science\n",
        "\n",
        "## 1. Количество вакансий, имеющих отношение к данным\n",
        "- **Результат:** 1771 вакансия.\n",
        "- **Вывод:** Количество вакансий, в названии которых встречаются слова \"data\" или \"данн\", указывает на высокий интерес работодателей к специалистам, работающим с данными.\n",
        "\n",
        "---\n",
        "\n",
        "## 2. Вакансии для начинающего Data Scientist уровня Junior\n",
        "- **Результат:** 51 вакансия.\n",
        "- **Вывод:** Начинающим специалистам в области Data Science доступно ограниченное количество вакансий. Это подчеркивает конкуренцию на начальном уровне и необходимость наличия базовых навыков и стажировок.\n",
        "\n",
        "---\n",
        "\n",
        "## 3. Вакансии для DS с ключевыми навыками SQL или PostgreSQL\n",
        "- **Результат:** 229 вакансий.\n",
        "- **Вывод:** SQL и PostgreSQL остаются ключевыми навыками для специалистов Data Science. Это подчеркивает важность базовой технической подготовки.\n",
        "\n",
        "---\n",
        "\n",
        "## 4. Популярность Python в требованиях к DS\n",
        "- **Результат:** 357 вакансий.\n",
        "- **Вывод:** Python является одним из наиболее востребованных навыков для Data Science. Это подтверждает его лидерство в области анализа данных и машинного обучения.\n",
        "\n",
        "---\n",
        "\n",
        "## 5. Среднее количество ключевых навыков в вакансиях DS\n",
        "- **Результат:** 6.41 навыка.\n",
        "- **Вывод:** Работодатели ожидают широкий спектр навыков от специалистов DS, что указывает на сложность и междисциплинарный характер этой профессии.\n",
        "\n",
        "---\n",
        "\n",
        "## 6. Средняя зарплата для DS в зависимости от опыта\n",
        "- **Результаты:**\n",
        "  - **Нет опыта:** 74,642 руб.\n",
        "  - **От 1 до 3 лет:** 139,674 руб.\n",
        "  - **От 3 до 6 лет:** 243,114 руб.\n",
        "- **Вывод:** Зарплаты в Data Science сильно зависят от опыта. Работодатели готовы инвестировать в квалифицированных специалистов, что делает данную сферу перспективной для развития."
      ]
    },
    {
      "cell_type": "markdown",
      "id": "c0ED6fh7wiBT",
      "metadata": {
        "id": "c0ED6fh7wiBT"
      },
      "source": [
        "# Общий вывод по проекту"
      ]
    },
    {
      "cell_type": "code",
      "execution_count": 52,
      "id": "h9B3BL-wwj18",
      "metadata": {
        "id": "h9B3BL-wwj18"
      },
      "outputs": [],
      "source": [
        "# подведем итог исследования, обобщите выводы\n",
        "# здесь можно (это будет плюсом) провести дополнительные исследования данных, сделать прогнозы, продумать варианты продолжения исследования"
      ]
    },
    {
      "cell_type": "code",
      "execution_count": 53,
      "id": "ad64e688",
      "metadata": {},
      "outputs": [],
      "source": [
        "# SQL-запрос для расчета средней зарплаты по опыту для вакансий Data Science и Machine Learning\n",
        "query = \"\"\"\n",
        "-- SQL-запрос для анализа среднего уровня зарплат Data Scientists по регионам и уровням опыта\n",
        "SELECT\n",
        "    a.name AS region, -- Название региона\n",
        "    v.experience,     -- Уровень опыта\n",
        "    ROUND(\n",
        "        AVG(\n",
        "            CASE\n",
        "                WHEN salary_from IS NOT NULL AND salary_to IS NOT NULL THEN (salary_from + salary_to) / 2\n",
        "                ELSE COALESCE(salary_from, salary_to) -- Используем либо salary_from, либо salary_to\n",
        "            END\n",
        "        ), 2\n",
        "    ) AS avg_salary -- Средняя зарплата, округленная до 2 знаков\n",
        "FROM public.vacancies v\n",
        "JOIN public.areas a\n",
        "    ON v.area_id = a.id -- Соединение вакансий с регионами\n",
        "WHERE \n",
        "    (salary_from IS NOT NULL OR salary_to IS NOT NULL) -- Учитываем только вакансии с указанной зарплатой\n",
        "    AND a.name IN ('Москва', 'Санкт-Петербург', 'Новосибирск', 'Екатеринбург', 'Казань', \n",
        "                   'Красноярск', 'Нижний Новгород', 'Челябинск', 'Уфа', 'Самара', \n",
        "                   'Ростов-на-Дону', 'Краснодар', 'Омск', 'Воронеж', 'Пермь', 'Волгоград') -- Ограничиваем анализ указанными регионами\n",
        "    AND (\n",
        "        v.name ILIKE '%data scientist%' OR\n",
        "        v.name ILIKE '%data science%' OR\n",
        "        v.name ILIKE '%исследователь данных%' OR\n",
        "        v.name ILIKE '%machine learning%' OR\n",
        "        (v.name ILIKE '%ML%' AND v.name NOT ILIKE '%HTML%') OR\n",
        "        v.name ILIKE '%машинн%обучен%'\n",
        "    ) -- Учитываем только вакансии для Data Scientist\n",
        "GROUP BY a.name, v.experience -- Группируем данные по регионам и уровням опыта\n",
        "ORDER BY region, experience; -- Сортируем по региону и уровню опыта\n",
        "\"\"\""
      ]
    },
    {
      "cell_type": "code",
      "execution_count": 54,
      "id": "c4635db5",
      "metadata": {},
      "outputs": [
        {
          "data": {
            "text/html": [
              "<div>\n",
              "<style scoped>\n",
              "    .dataframe tbody tr th:only-of-type {\n",
              "        vertical-align: middle;\n",
              "    }\n",
              "\n",
              "    .dataframe tbody tr th {\n",
              "        vertical-align: top;\n",
              "    }\n",
              "\n",
              "    .dataframe thead th {\n",
              "        text-align: right;\n",
              "    }\n",
              "</style>\n",
              "<table border=\"1\" class=\"dataframe\">\n",
              "  <thead>\n",
              "    <tr style=\"text-align: right;\">\n",
              "      <th></th>\n",
              "      <th>region</th>\n",
              "      <th>experience</th>\n",
              "      <th>avg_salary</th>\n",
              "    </tr>\n",
              "  </thead>\n",
              "  <tbody>\n",
              "    <tr>\n",
              "      <th>0</th>\n",
              "      <td>Воронеж</td>\n",
              "      <td>Более 6 лет</td>\n",
              "      <td>90000.00</td>\n",
              "    </tr>\n",
              "    <tr>\n",
              "      <th>1</th>\n",
              "      <td>Екатеринбург</td>\n",
              "      <td>Нет опыта</td>\n",
              "      <td>37000.00</td>\n",
              "    </tr>\n",
              "    <tr>\n",
              "      <th>2</th>\n",
              "      <td>Екатеринбург</td>\n",
              "      <td>От 1 года до 3 лет</td>\n",
              "      <td>167500.00</td>\n",
              "    </tr>\n",
              "    <tr>\n",
              "      <th>3</th>\n",
              "      <td>Казань</td>\n",
              "      <td>От 1 года до 3 лет</td>\n",
              "      <td>50000.00</td>\n",
              "    </tr>\n",
              "    <tr>\n",
              "      <th>4</th>\n",
              "      <td>Казань</td>\n",
              "      <td>От 3 до 6 лет</td>\n",
              "      <td>217750.00</td>\n",
              "    </tr>\n",
              "    <tr>\n",
              "      <th>5</th>\n",
              "      <td>Москва</td>\n",
              "      <td>Более 6 лет</td>\n",
              "      <td>200000.00</td>\n",
              "    </tr>\n",
              "    <tr>\n",
              "      <th>6</th>\n",
              "      <td>Москва</td>\n",
              "      <td>Нет опыта</td>\n",
              "      <td>72500.00</td>\n",
              "    </tr>\n",
              "    <tr>\n",
              "      <th>7</th>\n",
              "      <td>Москва</td>\n",
              "      <td>От 1 года до 3 лет</td>\n",
              "      <td>169178.57</td>\n",
              "    </tr>\n",
              "    <tr>\n",
              "      <th>8</th>\n",
              "      <td>Москва</td>\n",
              "      <td>От 3 до 6 лет</td>\n",
              "      <td>274230.77</td>\n",
              "    </tr>\n",
              "    <tr>\n",
              "      <th>9</th>\n",
              "      <td>Новосибирск</td>\n",
              "      <td>Нет опыта</td>\n",
              "      <td>80000.00</td>\n",
              "    </tr>\n",
              "    <tr>\n",
              "      <th>10</th>\n",
              "      <td>Новосибирск</td>\n",
              "      <td>От 3 до 6 лет</td>\n",
              "      <td>209500.00</td>\n",
              "    </tr>\n",
              "    <tr>\n",
              "      <th>11</th>\n",
              "      <td>Пермь</td>\n",
              "      <td>От 1 года до 3 лет</td>\n",
              "      <td>75000.00</td>\n",
              "    </tr>\n",
              "    <tr>\n",
              "      <th>12</th>\n",
              "      <td>Пермь</td>\n",
              "      <td>От 3 до 6 лет</td>\n",
              "      <td>200000.00</td>\n",
              "    </tr>\n",
              "    <tr>\n",
              "      <th>13</th>\n",
              "      <td>Ростов-на-Дону</td>\n",
              "      <td>От 1 года до 3 лет</td>\n",
              "      <td>50000.00</td>\n",
              "    </tr>\n",
              "    <tr>\n",
              "      <th>14</th>\n",
              "      <td>Ростов-на-Дону</td>\n",
              "      <td>От 3 до 6 лет</td>\n",
              "      <td>337500.00</td>\n",
              "    </tr>\n",
              "    <tr>\n",
              "      <th>15</th>\n",
              "      <td>Санкт-Петербург</td>\n",
              "      <td>Нет опыта</td>\n",
              "      <td>87666.67</td>\n",
              "    </tr>\n",
              "    <tr>\n",
              "      <th>16</th>\n",
              "      <td>Санкт-Петербург</td>\n",
              "      <td>От 1 года до 3 лет</td>\n",
              "      <td>190115.33</td>\n",
              "    </tr>\n",
              "    <tr>\n",
              "      <th>17</th>\n",
              "      <td>Санкт-Петербург</td>\n",
              "      <td>От 3 до 6 лет</td>\n",
              "      <td>271666.67</td>\n",
              "    </tr>\n",
              "    <tr>\n",
              "      <th>18</th>\n",
              "      <td>Уфа</td>\n",
              "      <td>От 1 года до 3 лет</td>\n",
              "      <td>90000.00</td>\n",
              "    </tr>\n",
              "  </tbody>\n",
              "</table>\n",
              "</div>"
            ],
            "text/plain": [
              "             region          experience  avg_salary\n",
              "0           Воронеж         Более 6 лет    90000.00\n",
              "1      Екатеринбург           Нет опыта    37000.00\n",
              "2      Екатеринбург  От 1 года до 3 лет   167500.00\n",
              "3            Казань  От 1 года до 3 лет    50000.00\n",
              "4            Казань       От 3 до 6 лет   217750.00\n",
              "5            Москва         Более 6 лет   200000.00\n",
              "6            Москва           Нет опыта    72500.00\n",
              "7            Москва  От 1 года до 3 лет   169178.57\n",
              "8            Москва       От 3 до 6 лет   274230.77\n",
              "9       Новосибирск           Нет опыта    80000.00\n",
              "10      Новосибирск       От 3 до 6 лет   209500.00\n",
              "11            Пермь  От 1 года до 3 лет    75000.00\n",
              "12            Пермь       От 3 до 6 лет   200000.00\n",
              "13   Ростов-на-Дону  От 1 года до 3 лет    50000.00\n",
              "14   Ростов-на-Дону       От 3 до 6 лет   337500.00\n",
              "15  Санкт-Петербург           Нет опыта    87666.67\n",
              "16  Санкт-Петербург  От 1 года до 3 лет   190115.33\n",
              "17  Санкт-Петербург       От 3 до 6 лет   271666.67\n",
              "18              Уфа  От 1 года до 3 лет    90000.00"
            ]
          },
          "metadata": {},
          "output_type": "display_data"
        }
      ],
      "source": [
        "# Выполняем запрос и сохраняем результат в виде DataFrame\n",
        "df = pd.read_sql_query(query, connection)\n",
        "\n",
        "# Отображаем результат\n",
        "display(df)"
      ]
    },
    {
      "cell_type": "markdown",
      "id": "9b0a47f4",
      "metadata": {},
      "source": [
        "### 📊 Дополнительное исследование: Средняя зарплата Data Scientists по регионам и уровням опыта\n",
        "\n",
        "#### **1. Результаты**\n",
        "- **Москва**:\n",
        "  - **Нет опыта**: 72,500 рублей.\n",
        "  - **От 1 года до 3 лет**: 169,178.57 рублей.\n",
        "  - **От 3 до 6 лет**: 274,230.77 рублей.\n",
        "  - **Более 6 лет**: 200,000 рублей.\n",
        "\n",
        "- **Санкт-Петербург**:\n",
        "  - **Нет опыта**: 87,666.67 рублей.\n",
        "  - **От 1 года до 3 лет**: 190,115.33 рублей.\n",
        "  - **От 3 до 6 лет**: 271,666.67 рублей.\n",
        "\n",
        "- **Новосибирск**:\n",
        "  - **Нет опыта**: 80,000 рублей.\n",
        "  - **От 3 до 6 лет**: 209,500 рублей.\n",
        "\n",
        "- **Екатеринбург**:\n",
        "  - **Нет опыта**: 37,000 рублей.\n",
        "  - **От 1 года до 3 лет**: 167,500 рублей.\n",
        "\n",
        "- **Казань**:\n",
        "  - **От 1 года до 3 лет**: 50,000 рублей.\n",
        "  - **От 3 до 6 лет**: 217,750 рублей.\n",
        "\n",
        "- **Ростов-на-Дону**:\n",
        "  - **От 1 года до 3 лет**: 50,000 рублей.\n",
        "  - **От 3 до 6 лет**: 337,500 рублей (аномально высокая).\n",
        "\n",
        "- **Пермь**:\n",
        "  - **От 1 года до 3 лет**: 75,000 рублей.\n",
        "  - **От 3 до 6 лет**: 200,000 рублей.\n",
        "\n",
        "#### **2. Выводы**\n",
        "1. **Москва лидирует по зарплатам:**\n",
        "   - Средние зарплаты для всех уровней опыта в Москве самые высокие. Например, зарплата для специалистов с опытом от 3 до 6 лет составляет 274,230.77 рублей, что выше, чем в других регионах.\n",
        "\n",
        "2. **Санкт-Петербург и Новосибирск:**\n",
        "   - Санкт-Петербург близок к Москве по зарплатам, особенно для опытных специалистов.\n",
        "   - Новосибирск выделяется относительно высокими зарплатами (209,500 рублей) для специалистов с опытом от 3 до 6 лет.\n",
        "\n",
        "3. **Низкие зарплаты в Казани и Екатеринбурге:**\n",
        "   - В Казани и Екатеринбурге зарплаты для специалистов без опыта значительно ниже: 50,000 и 37,000 рублей соответственно.\n",
        "\n",
        "4. **Аномалия в Ростове-на-Дону:**\n",
        "   - Зарплата в Ростове-на-Дону для специалистов с опытом от 3 до 6 лет составляет 337,500 рублей, что значительно выше среднего. Требуется дополнительный анализ.\n",
        "\n",
        "#### **3. Тенденции**\n",
        "1. **Опыт определяет зарплату:**\n",
        "   - Зарплаты значительно увеличиваются с опытом, особенно в Москве и Санкт-Петербурге.\n",
        "   \n",
        "2. **Региональные различия:**\n",
        "   - Зарплаты в центральных регионах (Москва, Санкт-Петербург) значительно выше, чем в остальных.\n",
        "\n",
        "3. **Важность крупных центров:**\n",
        "   - Новосибирск и Екатеринбург выделяются среди региональных центров относительно высокими зарплатами для опытных специалистов.\n",
        "\n",
        "#### **4. Рекомендации для дальнейшего анализа**\n",
        "1. **Анализ аномалий:**\n",
        "   - Исследовать причину аномально высокой зарплаты в Ростове-на-Дону для специалистов с опытом от 3 до 6 лет.\n",
        "\n",
        "2. **Динамика зарплат:**\n",
        "   - Сравнить эти данные с предыдущими годами, чтобы выявить тенденции роста зарплат.\n",
        "\n",
        "3. **Распределение вакансий:**\n",
        "   - Проанализировать количество вакансий в каждом регионе, чтобы понять влияние конкуренции на зарплаты.\n",
        "\n",
        "4. **Сравнение с другими профессиями:**\n",
        "   - Сравнить зарплаты Data Scientists с зарплатами разработчиков и аналитиков в тех же регионах.\n",
        "\n",
        "---"
      ]
    },
    {
      "cell_type": "code",
      "execution_count": 55,
      "id": "84dec496",
      "metadata": {},
      "outputs": [],
      "source": [
        "# SQL-запрос для расчета средней зарплаты по опыту для вакансий Data Science и Machine Learning\n",
        "query = \"\"\"\n",
        "-- SQL-запрос для сравнения средних зарплат Data Scientists с другими IT-специалистами\n",
        "SELECT\n",
        "    CASE\n",
        "        WHEN v.name ILIKE '%data scientist%' OR\n",
        "             v.name ILIKE '%data science%' OR\n",
        "             v.name ILIKE '%исследователь данных%' OR\n",
        "             v.name ILIKE '%machine learning%' OR\n",
        "             (v.name ILIKE '%ML%' AND v.name NOT ILIKE '%HTML%') OR\n",
        "             v.name ILIKE '%машинн%обучен%' THEN 'Data Scientist'\n",
        "        WHEN v.name ILIKE '%разработчик%' OR\n",
        "             v.name ILIKE '%developer%' THEN 'Разработчик'\n",
        "        WHEN v.name ILIKE '%аналитик%' OR\n",
        "             v.name ILIKE '%analyst%' THEN 'Аналитик'\n",
        "        ELSE 'Другая IT-профессия'\n",
        "    END AS profession, -- Классификация профессий\n",
        "    ROUND(\n",
        "        AVG(\n",
        "            CASE\n",
        "                WHEN salary_from IS NOT NULL AND salary_to IS NOT NULL THEN (salary_from + salary_to) / 2\n",
        "                ELSE COALESCE(salary_from, salary_to) -- Используем либо salary_from, либо salary_to\n",
        "            END\n",
        "        ), 2\n",
        "    ) AS avg_salary -- Средняя зарплата, округленная до 2 знаков\n",
        "FROM public.vacancies v\n",
        "WHERE \n",
        "    (v.name ILIKE '%data scientist%' OR\n",
        "     v.name ILIKE '%data science%' OR\n",
        "     v.name ILIKE '%исследователь данных%' OR\n",
        "     v.name ILIKE '%machine learning%' OR\n",
        "     (v.name ILIKE '%ML%' AND v.name NOT ILIKE '%HTML%') OR\n",
        "     v.name ILIKE '%машинн%обучен%' OR\n",
        "     v.name ILIKE '%разработчик%' OR\n",
        "     v.name ILIKE '%developer%' OR\n",
        "     v.name ILIKE '%аналитик%' OR\n",
        "     v.name ILIKE '%analyst%') -- Учитываем только IT-профессии\n",
        "    AND (salary_from IS NOT NULL OR salary_to IS NOT NULL) -- Исключаем вакансии без указанных зарплат\n",
        "GROUP BY profession -- Группируем по классификации профессий\n",
        "ORDER BY avg_salary DESC; -- Сортируем по средней зарплате в убывающем порядке\n",
        "\"\"\""
      ]
    },
    {
      "cell_type": "code",
      "execution_count": 56,
      "id": "0d301483",
      "metadata": {},
      "outputs": [
        {
          "data": {
            "text/html": [
              "<div>\n",
              "<style scoped>\n",
              "    .dataframe tbody tr th:only-of-type {\n",
              "        vertical-align: middle;\n",
              "    }\n",
              "\n",
              "    .dataframe tbody tr th {\n",
              "        vertical-align: top;\n",
              "    }\n",
              "\n",
              "    .dataframe thead th {\n",
              "        text-align: right;\n",
              "    }\n",
              "</style>\n",
              "<table border=\"1\" class=\"dataframe\">\n",
              "  <thead>\n",
              "    <tr style=\"text-align: right;\">\n",
              "      <th></th>\n",
              "      <th>profession</th>\n",
              "      <th>avg_salary</th>\n",
              "    </tr>\n",
              "  </thead>\n",
              "  <tbody>\n",
              "    <tr>\n",
              "      <th>0</th>\n",
              "      <td>Data Scientist</td>\n",
              "      <td>193860.61</td>\n",
              "    </tr>\n",
              "    <tr>\n",
              "      <th>1</th>\n",
              "      <td>Разработчик</td>\n",
              "      <td>140942.90</td>\n",
              "    </tr>\n",
              "    <tr>\n",
              "      <th>2</th>\n",
              "      <td>Аналитик</td>\n",
              "      <td>90439.47</td>\n",
              "    </tr>\n",
              "  </tbody>\n",
              "</table>\n",
              "</div>"
            ],
            "text/plain": [
              "       profession  avg_salary\n",
              "0  Data Scientist   193860.61\n",
              "1     Разработчик   140942.90\n",
              "2        Аналитик    90439.47"
            ]
          },
          "metadata": {},
          "output_type": "display_data"
        }
      ],
      "source": [
        "# Выполняем запрос и сохраняем результат в виде DataFrame\n",
        "df = pd.read_sql_query(query, connection)\n",
        "\n",
        "# Отображаем результат\n",
        "display(df)"
      ]
    },
    {
      "cell_type": "code",
      "execution_count": 57,
      "id": "771a9f19",
      "metadata": {},
      "outputs": [],
      "source": [
        "connection.close()"
      ]
    },
    {
      "cell_type": "markdown",
      "id": "a4c326da",
      "metadata": {},
      "source": [
        "### 📊 Вывод по дополнительному исследованию: сравнение средних зарплат Data Scientists с другими IT-специалистами\n",
        "\n",
        "#### **1. Результаты**\n",
        "- **Data Scientist**: средняя зарплата — **193,860.61 рублей**.\n",
        "- **Разработчик**: средняя зарплата — **140,942.90 рублей**.\n",
        "- **Аналитик**: средняя зарплата — **90,439.47 рублей**.\n",
        "\n",
        "#### **2. Выводы**\n",
        "1. **Data Scientists лидируют по уровню зарплат:**\n",
        "   - Data Scientists получают наибольшую среднюю зарплату среди всех анализируемых IT-специалистов. Это связано с высокой сложностью работы, необходимостью глубоких знаний в области математики, программирования и анализа данных.\n",
        "\n",
        "2. **Разработчики занимают второе место:**\n",
        "   - Разработчики получают в среднем на 27% меньше, чем Data Scientists, но их зарплаты остаются достаточно высокими. Это объясняется стабильным спросом на разработчиков в широком спектре индустрий.\n",
        "\n",
        "3. **Аналитики с самыми низкими зарплатами:**\n",
        "   - Аналитики данных получают на 53% меньше, чем Data Scientists. Это может быть связано с более низкими требованиями к техническим навыкам по сравнению с Data Scientists и разработчиками.\n",
        "\n",
        "#### **3. Тенденции и прогнозы**\n",
        "1. **Рост спроса на Data Scientists:**\n",
        "   - Ожидается, что зарплаты Data Scientists будут продолжать расти благодаря растущему спросу на анализ данных и машинное обучение в бизнесе.\n",
        "\n",
        "2. **Позиция разработчиков:**\n",
        "   - Несмотря на более низкий уровень зарплат по сравнению с Data Scientists, разработчики остаются одной из самых востребованных категорий специалистов в IT.\n",
        "\n",
        "3. **Возможности для аналитиков:**\n",
        "   - Аналитики могут увеличивать свою стоимость на рынке, если будут развивать технические навыки, такие как Python, SQL, и переходить в роли, связанные с Data Science.\n",
        "\n",
        "#### **4. Рекомендации**\n",
        "1. **Развитие компетенций:**\n",
        "   - Специалистам, стремящимся увеличить свой доход, следует развивать навыки, востребованные в Data Science и разработке, такие как Python, машинное обучение и работа с большими данными.\n",
        "\n",
        "2. **Анализ по регионам:**\n",
        "   - Провести исследование, как зарплаты Data Scientists, разработчиков и аналитиков варьируются в зависимости от региона, чтобы выявить географические тренды.\n",
        "\n",
        "3. **Динамика изменений:**\n",
        "   - Сравнить эти данные с историческими, чтобы выявить рост или падение зарплат в каждой категории.\n",
        "\n",
        "---"
      ]
    }
  ],
  "metadata": {
    "colab": {
      "collapsed_sections": [
        "8d62a9f3-f64e-4fe7-bdac-c4dffa16155e"
      ],
      "provenance": []
    },
    "kernelspec": {
      "display_name": "Python 3",
      "language": "python",
      "name": "python3"
    },
    "language_info": {
      "codemirror_mode": {
        "name": "ipython",
        "version": 3
      },
      "file_extension": ".py",
      "mimetype": "text/x-python",
      "name": "python",
      "nbconvert_exporter": "python",
      "pygments_lexer": "ipython3",
      "version": "3.12.7"
    }
  },
  "nbformat": 4,
  "nbformat_minor": 5
}
